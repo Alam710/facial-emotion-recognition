{
  "nbformat": 4,
  "nbformat_minor": 0,
  "metadata": {
    "colab": {
      "provenance": [],
      "mount_file_id": "1dDrtv1CGdBYsZxvUpXQJB2POSgvK9BRg",
      "authorship_tag": "ABX9TyMYYUkJI7sOk25jw9OczCIc",
      "include_colab_link": true
    },
    "kernelspec": {
      "name": "python3",
      "display_name": "Python 3"
    },
    "language_info": {
      "name": "python"
    },
    "accelerator": "GPU"
  },
  "cells": [
    {
      "cell_type": "markdown",
      "metadata": {
        "id": "view-in-github",
        "colab_type": "text"
      },
      "source": [
        "<a href=\"https://colab.research.google.com/github/Alam710/facial-emotion-recognition/blob/master/inputsize224x224_transfer_lerning.ipynb\" target=\"_parent\"><img src=\"https://colab.research.google.com/assets/colab-badge.svg\" alt=\"Open In Colab\"/></a>"
      ]
    },
    {
      "cell_type": "code",
      "execution_count": null,
      "metadata": {
        "colab": {
          "base_uri": "https://localhost:8080/"
        },
        "id": "hFphk54eU69O",
        "outputId": "eee27d77-def1-4274-c330-a3ce78f0e3fe"
      },
      "outputs": [
        {
          "output_type": "stream",
          "name": "stdout",
          "text": [
            "Mounted at /content/drive/\n"
          ]
        }
      ],
      "source": [
        "from google.colab import drive\n",
        "drive.mount('/content/drive/')"
      ]
    },
    {
      "cell_type": "code",
      "source": [
        "import tensorflow as tf\n",
        "print(tf.__version__)"
      ],
      "metadata": {
        "colab": {
          "base_uri": "https://localhost:8080/"
        },
        "id": "Xbg_0X2cM5Ch",
        "outputId": "08901390-6266-404f-fece-4076dc5723bd"
      },
      "execution_count": null,
      "outputs": [
        {
          "output_type": "stream",
          "name": "stdout",
          "text": [
            "2.8.2\n"
          ]
        }
      ]
    },
    {
      "cell_type": "code",
      "source": [
        "import numpy as np\n",
        "import tensorflow as tf\n",
        "from keras.models import Sequential\n",
        "from keras.layers import Dense, MaxPooling2D, Conv2D, Flatten, Dropout\n",
        "from keras.preprocessing.image import ImageDataGenerator\n",
        "from keras.optimizers import sgd_experimental\n",
        "from keras.callbacks import TensorBoard\n",
        "import matplotlib.pyplot as plt\n",
        "import sys, time"
      ],
      "metadata": {
        "id": "oPgIxWkgM5HS"
      },
      "execution_count": null,
      "outputs": []
    },
    {
      "cell_type": "code",
      "source": [
        "img_width, img_height = 224, 224"
      ],
      "metadata": {
        "id": "o-7eudcOM5LF"
      },
      "execution_count": null,
      "outputs": []
    },
    {
      "cell_type": "code",
      "source": [
        "train_data_dir = '/content/drive/MyDrive/Tesis/CK_7_KELAS/train'\n",
        "validation_data_dir = '/content/drive/MyDrive/Tesis/CK_7_KELAS/valid'\n",
        "testing_dir = \"/content/drive/MyDrive/Tesis/CK_7_KELAS/test\"\n",
        "nb_train_samples = 1044\n",
        "nb_validation_samples = 132\n",
        "epochs = 50\n",
        "batch_size = 16"
      ],
      "metadata": {
        "id": "sO5Mo_UrNV3C"
      },
      "execution_count": null,
      "outputs": []
    },
    {
      "cell_type": "code",
      "source": [
        "from tensorflow.keras.preprocessing.image import ImageDataGenerator\n",
        "# Training Data Augmentation\n",
        "train_datagen = ImageDataGenerator(\n",
        "                    rescale=1./255,\n",
        "                    rotation_range=20,\n",
        "                    horizontal_flip=True,\n",
        "                    shear_range = 0.2,\n",
        "                    fill_mode = 'nearest')\n",
        "\n",
        "test_datagen = ImageDataGenerator(\n",
        "                    rescale=1./255,\n",
        "                    rotation_range=20,\n",
        "                    horizontal_flip=True,\n",
        "                    shear_range = 0.2,\n",
        "                    fill_mode = 'nearest')\n"
      ],
      "metadata": {
        "id": "mKwSahnKNYQ2"
      },
      "execution_count": null,
      "outputs": []
    },
    {
      "cell_type": "code",
      "source": [
        "testing_datagen = ImageDataGenerator(\n",
        "                    rescale=1./255,\n",
        "                    rotation_range=20,\n",
        "                    horizontal_flip=True,\n",
        "                    shear_range = 0.2,\n",
        "                    fill_mode = 'nearest')\n",
        "\n",
        "testing_generator = test_datagen.flow_from_directory(\n",
        "    validation_data_dir,\n",
        "    target_size=(224, 224),\n",
        "    batch_size=batch_size,\n",
        "    class_mode='categorical')"
      ],
      "metadata": {
        "colab": {
          "base_uri": "https://localhost:8080/"
        },
        "id": "_aek8R0k8XkV",
        "outputId": "10ebfbb2-35d9-4841-a669-df6cd461d97d"
      },
      "execution_count": null,
      "outputs": [
        {
          "output_type": "stream",
          "name": "stdout",
          "text": [
            "Found 128 images belonging to 7 classes.\n"
          ]
        }
      ]
    },
    {
      "cell_type": "code",
      "source": [
        "train_generator = train_datagen.flow_from_directory(\n",
        "    train_data_dir,\n",
        "    target_size=(224, 224),\n",
        "  #  color_mode=\"grayscale\",\n",
        "    batch_size=batch_size,\n",
        "    class_mode='categorical')"
      ],
      "metadata": {
        "colab": {
          "base_uri": "https://localhost:8080/"
        },
        "id": "XvgxIDHnNdGR",
        "outputId": "15314681-b42f-4085-d65e-9680585ec379"
      },
      "execution_count": null,
      "outputs": [
        {
          "output_type": "stream",
          "name": "stdout",
          "text": [
            "Found 1000 images belonging to 7 classes.\n"
          ]
        }
      ]
    },
    {
      "cell_type": "code",
      "source": [
        "validation_generator = test_datagen.flow_from_directory(\n",
        "    validation_data_dir,\n",
        "    target_size=(224, 224),\n",
        "    batch_size=batch_size,\n",
        "    class_mode='categorical')"
      ],
      "metadata": {
        "colab": {
          "base_uri": "https://localhost:8080/"
        },
        "id": "_bSniyWoNdK0",
        "outputId": "4db9f63a-a932-49a5-89fb-23637a70b06d"
      },
      "execution_count": null,
      "outputs": [
        {
          "output_type": "stream",
          "name": "stdout",
          "text": [
            "Found 128 images belonging to 7 classes.\n"
          ]
        }
      ]
    },
    {
      "cell_type": "code",
      "source": [
        "\n",
        "model = tf.keras.models.Sequential([\n",
        "    tf.keras.layers.Conv2D(filters=6, kernel_size=(5,5), strides=(1,1), padding=\"same\", input_shape=(img_width, img_height, 3), activation=tf.keras.activations.relu),\n",
        "    tf.keras.layers.MaxPooling2D(2,2),\n",
        "\n",
        "    #tf.keras.layers.BatchNormalization(),\n",
        "    tf.keras.layers.Conv2D(filters=16, kernel_size=(5,5), strides=(1,1), padding=\"same\", activation=tf.keras.activations.relu),\n",
        "    tf.keras.layers.MaxPooling2D(2,2),\n",
        "\n",
        "    tf.keras.layers.Conv2D(filters=120, kernel_size=(5,5), strides=(1,1), padding=\"same\", activation=tf.keras.activations.relu),\n",
        "    #tf.keras.layers.BatchNormalization(),\n",
        "    tf.keras.layers.Dropout(0.25),\n",
        "\n",
        "    tf.keras.layers.Flatten(),\n",
        "    tf.keras.layers.Dense(84, activation=tf.keras.activations.relu),\n",
        "    tf.keras.layers.Dropout(0.5),\n",
        "    tf.keras.layers.Dense(7, activation=tf.keras.activations.softmax)\n",
        "])\n"
      ],
      "metadata": {
        "id": "fcIulqbAPVo6"
      },
      "execution_count": null,
      "outputs": []
    },
    {
      "cell_type": "code",
      "source": [
        "model.compile(loss=\"categorical_crossentropy\",\n",
        "              optimizer=tf.keras.optimizers.Adam(lr=0.0001),\n",
        "              metrics=[\"accuracy\"])"
      ],
      "metadata": {
        "id": "CcUTOpe_PYxu",
        "colab": {
          "base_uri": "https://localhost:8080/"
        },
        "outputId": "47449dad-9c05-4bd4-fce7-523c60370889"
      },
      "execution_count": null,
      "outputs": [
        {
          "output_type": "stream",
          "name": "stderr",
          "text": [
            "/usr/local/lib/python3.7/dist-packages/keras/optimizer_v2/adam.py:105: UserWarning: The `lr` argument is deprecated, use `learning_rate` instead.\n",
            "  super(Adam, self).__init__(name, **kwargs)\n"
          ]
        }
      ]
    },
    {
      "cell_type": "code",
      "source": [
        "# checkpoints\n",
        "from tensorflow.keras.callbacks import ModelCheckpoint\n",
        "weightpath = \"model\"\n",
        "checkpoints = ModelCheckpoint(weightpath, monitor='val_acc', verbose=1, save_best_only=True, save_weights_only=True, mode='max')\n",
        "callback_list = [checkpoints]"
      ],
      "metadata": {
        "id": "Bq1kSS-ZQdJw"
      },
      "execution_count": null,
      "outputs": []
    },
    {
      "cell_type": "code",
      "source": [
        "from tensorflow.keras.callbacks import TensorBoard\n",
        "# TensorBoard Callbacks\n",
        "callbacks = TensorBoard(log_dir='./Graph')"
      ],
      "metadata": {
        "id": "0BSnxXzSQfQ8"
      },
      "execution_count": null,
      "outputs": []
    },
    {
      "cell_type": "code",
      "source": [
        "class myCallback(tf.keras.callbacks.Callback):\n",
        "  def on_epoch_end(self, epoch, logs={}):\n",
        "    if(logs.get('val_accuracy')>0.99):\n",
        "      print(\"\\nAkurasi telah mencapai > 99%!\")\n",
        "      self.model.stop_training = True\n",
        "\n",
        "callbacks = myCallback()"
      ],
      "metadata": {
        "id": "cfAodT49D3uc"
      },
      "execution_count": null,
      "outputs": []
    },
    {
      "cell_type": "code",
      "source": [
        "def print_time_taken(start_time, end_time):\n",
        "    secs_elapsed = end_time - start_time\n",
        "\n",
        "    SECS_PER_MIN = 60\n",
        "    SECS_PER_HR  = 60 * SECS_PER_MIN\n",
        "\n",
        "    hrs_elapsed, secs_elapsed = divmod(secs_elapsed, SECS_PER_HR)\n",
        "    mins_elapsed, secs_elapsed = divmod(secs_elapsed, SECS_PER_MIN)\n",
        "\n",
        "    if hrs_elapsed > 0:\n",
        "        print('Time taken: %d hrs %d mins %d secs' % (hrs_elapsed, mins_elapsed, secs_elapsed))\n",
        "    elif mins_elapsed > 0:\n",
        "        print('Time taken: %d mins %d secs' % (mins_elapsed, secs_elapsed))\n",
        "    elif secs_elapsed > 1:\n",
        "        print('Time taken: %d secs' % (secs_elapsed))\n",
        "    else:\n",
        "        print('Time taken - less than 1 sec')"
      ],
      "metadata": {
        "id": "ZKEaZaAhQgow"
      },
      "execution_count": null,
      "outputs": []
    },
    {
      "cell_type": "code",
      "source": [
        "# train\n",
        "\n",
        "import sys, time\n",
        "start_time = time.time()\n",
        "\"\"\"\n",
        "history = model.fit(\n",
        "    train_generator,\n",
        "    steps_per_epoch=nb_train_samples // batch_size,\n",
        "    epochs=epochs,\n",
        "    validation_data=validation_generator,\n",
        "    validation_steps=nb_validation_samples // batch_size,\n",
        "    callbacks=[callbacks])\"\"\"\n",
        "\n",
        "history = model.fit(train_generator,\n",
        "                    steps_per_epoch=len(train_generator),\n",
        "                    validation_data=validation_generator,\n",
        "                    # validation_steps=72 *0.15,\n",
        "                    epochs=50,\n",
        "                    verbose=2,\n",
        "                    callbacks=[callbacks]\n",
        "                    )\n",
        "\"\"\"\n",
        "history = model.fit(train_generator,\n",
        "                              validation_data=validation_generator,\n",
        "                              epochs=100,\n",
        "                              verbose=2)\"\"\"\n",
        "end_time = time.time()\n",
        "print_time_taken(start_time, end_time)"
      ],
      "metadata": {
        "colab": {
          "base_uri": "https://localhost:8080/"
        },
        "id": "t2mKdRG1Qj31",
        "outputId": "529eec5e-1ad2-4a54-f45d-8d0b1a7a05d2"
      },
      "execution_count": null,
      "outputs": [
        {
          "output_type": "stream",
          "name": "stdout",
          "text": [
            "Epoch 1/50\n",
            "63/63 - 358s - loss: 1.6374 - accuracy: 0.3980 - val_loss: 1.2062 - val_accuracy: 0.6328 - 358s/epoch - 6s/step\n",
            "Epoch 2/50\n",
            "63/63 - 16s - loss: 1.1481 - accuracy: 0.6230 - val_loss: 0.8631 - val_accuracy: 0.7422 - 16s/epoch - 253ms/step\n",
            "Epoch 3/50\n",
            "63/63 - 16s - loss: 0.8289 - accuracy: 0.7330 - val_loss: 0.5621 - val_accuracy: 0.8359 - 16s/epoch - 254ms/step\n",
            "Epoch 4/50\n",
            "63/63 - 16s - loss: 0.6549 - accuracy: 0.7760 - val_loss: 0.4599 - val_accuracy: 0.8672 - 16s/epoch - 257ms/step\n",
            "Epoch 5/50\n",
            "63/63 - 16s - loss: 0.5322 - accuracy: 0.8180 - val_loss: 0.2924 - val_accuracy: 0.9297 - 16s/epoch - 257ms/step\n",
            "Epoch 6/50\n",
            "63/63 - 16s - loss: 0.4939 - accuracy: 0.8340 - val_loss: 0.2042 - val_accuracy: 0.9531 - 16s/epoch - 256ms/step\n",
            "Epoch 7/50\n",
            "63/63 - 16s - loss: 0.4156 - accuracy: 0.8550 - val_loss: 0.2302 - val_accuracy: 0.9375 - 16s/epoch - 257ms/step\n",
            "Epoch 8/50\n",
            "63/63 - 16s - loss: 0.4000 - accuracy: 0.8510 - val_loss: 0.1834 - val_accuracy: 0.9531 - 16s/epoch - 259ms/step\n",
            "Epoch 9/50\n",
            "63/63 - 16s - loss: 0.4084 - accuracy: 0.8630 - val_loss: 0.1475 - val_accuracy: 0.9609 - 16s/epoch - 258ms/step\n",
            "Epoch 10/50\n",
            "63/63 - 16s - loss: 0.3515 - accuracy: 0.8710 - val_loss: 0.1820 - val_accuracy: 0.9453 - 16s/epoch - 256ms/step\n",
            "Epoch 11/50\n",
            "63/63 - 16s - loss: 0.3000 - accuracy: 0.8820 - val_loss: 0.1162 - val_accuracy: 0.9688 - 16s/epoch - 256ms/step\n",
            "Epoch 12/50\n",
            "63/63 - 16s - loss: 0.3115 - accuracy: 0.8890 - val_loss: 0.1000 - val_accuracy: 0.9844 - 16s/epoch - 259ms/step\n",
            "Epoch 13/50\n",
            "63/63 - 16s - loss: 0.2672 - accuracy: 0.9070 - val_loss: 0.1025 - val_accuracy: 0.9531 - 16s/epoch - 256ms/step\n",
            "Epoch 14/50\n",
            "63/63 - 17s - loss: 0.2693 - accuracy: 0.9050 - val_loss: 0.0641 - val_accuracy: 0.9766 - 17s/epoch - 263ms/step\n",
            "Epoch 15/50\n",
            "63/63 - 17s - loss: 0.2728 - accuracy: 0.9050 - val_loss: 0.1021 - val_accuracy: 0.9766 - 17s/epoch - 274ms/step\n",
            "Epoch 16/50\n",
            "63/63 - 16s - loss: 0.2674 - accuracy: 0.9020 - val_loss: 0.0748 - val_accuracy: 0.9922 - 16s/epoch - 256ms/step\n",
            "Epoch 17/50\n",
            "63/63 - 16s - loss: 0.2353 - accuracy: 0.9160 - val_loss: 0.0553 - val_accuracy: 0.9844 - 16s/epoch - 256ms/step\n",
            "Epoch 18/50\n",
            "63/63 - 16s - loss: 0.2245 - accuracy: 0.9110 - val_loss: 0.0627 - val_accuracy: 0.9844 - 16s/epoch - 256ms/step\n",
            "Epoch 19/50\n",
            "63/63 - 16s - loss: 0.2254 - accuracy: 0.9250 - val_loss: 0.0625 - val_accuracy: 0.9766 - 16s/epoch - 254ms/step\n",
            "Epoch 20/50\n",
            "63/63 - 16s - loss: 0.2255 - accuracy: 0.9160 - val_loss: 0.0439 - val_accuracy: 0.9844 - 16s/epoch - 256ms/step\n",
            "Epoch 21/50\n",
            "63/63 - 16s - loss: 0.1988 - accuracy: 0.9300 - val_loss: 0.1057 - val_accuracy: 0.9688 - 16s/epoch - 256ms/step\n",
            "Epoch 22/50\n",
            "63/63 - 16s - loss: 0.1891 - accuracy: 0.9180 - val_loss: 0.0478 - val_accuracy: 0.9844 - 16s/epoch - 256ms/step\n",
            "Epoch 23/50\n",
            "63/63 - 16s - loss: 0.2014 - accuracy: 0.9190 - val_loss: 0.0452 - val_accuracy: 0.9844 - 16s/epoch - 255ms/step\n",
            "Epoch 24/50\n",
            "63/63 - 16s - loss: 0.2084 - accuracy: 0.9200 - val_loss: 0.0256 - val_accuracy: 0.9922 - 16s/epoch - 256ms/step\n",
            "Epoch 25/50\n",
            "63/63 - 16s - loss: 0.1647 - accuracy: 0.9400 - val_loss: 0.0309 - val_accuracy: 0.9922 - 16s/epoch - 254ms/step\n",
            "Epoch 26/50\n",
            "63/63 - 16s - loss: 0.2003 - accuracy: 0.9200 - val_loss: 0.0235 - val_accuracy: 1.0000 - 16s/epoch - 257ms/step\n",
            "Epoch 27/50\n",
            "63/63 - 16s - loss: 0.1800 - accuracy: 0.9410 - val_loss: 0.0792 - val_accuracy: 0.9844 - 16s/epoch - 256ms/step\n",
            "Epoch 28/50\n",
            "63/63 - 16s - loss: 0.1653 - accuracy: 0.9440 - val_loss: 0.0738 - val_accuracy: 0.9688 - 16s/epoch - 257ms/step\n",
            "Epoch 29/50\n",
            "63/63 - 16s - loss: 0.1923 - accuracy: 0.9300 - val_loss: 0.0335 - val_accuracy: 0.9922 - 16s/epoch - 256ms/step\n",
            "Epoch 30/50\n",
            "63/63 - 16s - loss: 0.1728 - accuracy: 0.9360 - val_loss: 0.0255 - val_accuracy: 0.9922 - 16s/epoch - 254ms/step\n",
            "Epoch 31/50\n",
            "63/63 - 16s - loss: 0.1848 - accuracy: 0.9330 - val_loss: 0.0224 - val_accuracy: 0.9922 - 16s/epoch - 256ms/step\n",
            "Epoch 32/50\n",
            "63/63 - 16s - loss: 0.1456 - accuracy: 0.9420 - val_loss: 0.0328 - val_accuracy: 0.9844 - 16s/epoch - 256ms/step\n",
            "Epoch 33/50\n",
            "63/63 - 16s - loss: 0.1311 - accuracy: 0.9550 - val_loss: 0.0316 - val_accuracy: 0.9922 - 16s/epoch - 261ms/step\n",
            "Epoch 34/50\n",
            "63/63 - 16s - loss: 0.1483 - accuracy: 0.9530 - val_loss: 0.0121 - val_accuracy: 1.0000 - 16s/epoch - 259ms/step\n",
            "Epoch 35/50\n",
            "63/63 - 16s - loss: 0.1611 - accuracy: 0.9400 - val_loss: 0.0175 - val_accuracy: 0.9922 - 16s/epoch - 256ms/step\n",
            "Epoch 36/50\n",
            "63/63 - 17s - loss: 0.1025 - accuracy: 0.9610 - val_loss: 0.0124 - val_accuracy: 1.0000 - 17s/epoch - 274ms/step\n",
            "Epoch 37/50\n",
            "63/63 - 16s - loss: 0.1560 - accuracy: 0.9410 - val_loss: 0.0262 - val_accuracy: 0.9922 - 16s/epoch - 256ms/step\n",
            "Epoch 38/50\n",
            "63/63 - 16s - loss: 0.1281 - accuracy: 0.9560 - val_loss: 0.0157 - val_accuracy: 0.9922 - 16s/epoch - 258ms/step\n",
            "Epoch 39/50\n",
            "63/63 - 16s - loss: 0.1052 - accuracy: 0.9610 - val_loss: 0.0110 - val_accuracy: 1.0000 - 16s/epoch - 256ms/step\n",
            "Epoch 40/50\n",
            "63/63 - 16s - loss: 0.1347 - accuracy: 0.9520 - val_loss: 0.0081 - val_accuracy: 1.0000 - 16s/epoch - 256ms/step\n",
            "Epoch 41/50\n",
            "63/63 - 16s - loss: 0.1166 - accuracy: 0.9560 - val_loss: 0.0176 - val_accuracy: 0.9922 - 16s/epoch - 255ms/step\n",
            "Epoch 42/50\n",
            "63/63 - 16s - loss: 0.1294 - accuracy: 0.9570 - val_loss: 0.0120 - val_accuracy: 1.0000 - 16s/epoch - 257ms/step\n",
            "Epoch 43/50\n",
            "63/63 - 16s - loss: 0.1245 - accuracy: 0.9570 - val_loss: 0.0140 - val_accuracy: 1.0000 - 16s/epoch - 255ms/step\n",
            "Epoch 44/50\n",
            "63/63 - 16s - loss: 0.1034 - accuracy: 0.9570 - val_loss: 0.0285 - val_accuracy: 0.9922 - 16s/epoch - 256ms/step\n",
            "Epoch 45/50\n",
            "63/63 - 16s - loss: 0.1385 - accuracy: 0.9510 - val_loss: 0.0086 - val_accuracy: 1.0000 - 16s/epoch - 259ms/step\n",
            "Epoch 46/50\n",
            "63/63 - 16s - loss: 0.1286 - accuracy: 0.9510 - val_loss: 0.0083 - val_accuracy: 1.0000 - 16s/epoch - 255ms/step\n",
            "Epoch 47/50\n",
            "63/63 - 16s - loss: 0.1030 - accuracy: 0.9630 - val_loss: 0.0118 - val_accuracy: 1.0000 - 16s/epoch - 256ms/step\n",
            "Epoch 48/50\n",
            "63/63 - 16s - loss: 0.1258 - accuracy: 0.9540 - val_loss: 0.0188 - val_accuracy: 0.9922 - 16s/epoch - 258ms/step\n",
            "Epoch 49/50\n",
            "63/63 - 17s - loss: 0.1166 - accuracy: 0.9600 - val_loss: 0.0127 - val_accuracy: 1.0000 - 17s/epoch - 262ms/step\n",
            "Epoch 50/50\n",
            "63/63 - 16s - loss: 0.0911 - accuracy: 0.9710 - val_loss: 0.0039 - val_accuracy: 1.0000 - 16s/epoch - 260ms/step\n",
            "Time taken: 19 mins 20 secs\n"
          ]
        }
      ]
    },
    {
      "cell_type": "code",
      "source": [
        "# Save the entire model to a HDF5 file.\n",
        "# The '.h5' extension indicates that the model should be saved to HDF5.\n",
        "model.save('my_model.pb')\n",
        "%cd"
      ],
      "metadata": {
        "colab": {
          "base_uri": "https://localhost:8080/"
        },
        "id": "84fLLoN7QnmX",
        "outputId": "25fc46a0-23bf-49dd-993d-6680ec1c73dd"
      },
      "execution_count": null,
      "outputs": [
        {
          "output_type": "stream",
          "name": "stdout",
          "text": [
            "INFO:tensorflow:Assets written to: my_model.pb/assets\n",
            "/root\n"
          ]
        }
      ]
    },
    {
      "cell_type": "code",
      "source": [
        "import os\n",
        "import tarfile\n",
        "def tardir(path, tar_name):\n",
        "    with tarfile.open(tar_name, \"w:gz\") as tar_handle:\n",
        "        for root, dirs, files in os.walk(path):\n",
        "            for file in files:\n",
        "                tar_handle.add(os.path.join(root, file))\n",
        "tardir('root/my_model.pb', 'my_model.tar.gz')\n",
        "%cd\n"
      ],
      "metadata": {
        "colab": {
          "base_uri": "https://localhost:8080/"
        },
        "id": "MNu86HZ9Q51G",
        "outputId": "e1fb8e20-99b0-49db-c58c-ce59e9657252"
      },
      "execution_count": null,
      "outputs": [
        {
          "output_type": "stream",
          "name": "stdout",
          "text": [
            "/root\n"
          ]
        }
      ]
    },
    {
      "cell_type": "code",
      "source": [
        "nb_train_samples = 1044"
      ],
      "metadata": {
        "id": "7yk_XTsGQ7ia"
      },
      "execution_count": null,
      "outputs": []
    },
    {
      "cell_type": "code",
      "source": [
        "nb_validation_samples = 132"
      ],
      "metadata": {
        "id": "qUNir8GAQ8xp"
      },
      "execution_count": null,
      "outputs": []
    },
    {
      "cell_type": "code",
      "source": [
        "steps = nb_validation_samples/1"
      ],
      "metadata": {
        "id": "qvMtabxcQ-nS"
      },
      "execution_count": null,
      "outputs": []
    },
    {
      "cell_type": "code",
      "source": [
        "evaluate= model.evaluate_generator(validation_generator)"
      ],
      "metadata": {
        "colab": {
          "base_uri": "https://localhost:8080/"
        },
        "id": "giNeNb_jQ_1a",
        "outputId": "d7026cfc-c757-4d5a-c7f5-46cf732754d6"
      },
      "execution_count": null,
      "outputs": [
        {
          "output_type": "stream",
          "name": "stderr",
          "text": [
            "/usr/local/lib/python3.7/dist-packages/ipykernel_launcher.py:1: UserWarning: `Model.evaluate_generator` is deprecated and will be removed in a future version. Please use `Model.evaluate`, which supports generators.\n",
            "  \"\"\"Entry point for launching an IPython kernel.\n"
          ]
        }
      ]
    },
    {
      "cell_type": "code",
      "source": [
        "print('Test accuracy = {:.2f}'.format(evaluate[1]*100)+'%')"
      ],
      "metadata": {
        "colab": {
          "base_uri": "https://localhost:8080/"
        },
        "id": "l1XXff5mRBCw",
        "outputId": "eae5d7be-aab7-49b1-ff64-b3037006d2bf"
      },
      "execution_count": null,
      "outputs": [
        {
          "output_type": "stream",
          "name": "stdout",
          "text": [
            "Test accuracy = 99.22%\n"
          ]
        }
      ]
    },
    {
      "cell_type": "code",
      "source": [
        "import matplotlib.pyplot as plt\n",
        "import seaborn as sns\n",
        "sns.set()\n",
        "\n",
        "acc = history.history['accuracy']\n",
        "val_acc = history.history['val_accuracy']\n",
        "loss = history.history['loss']\n",
        "val_loss = history.history['val_loss']\n",
        "epochs = range(1, len(loss) + 1)\n",
        "\n",
        "#accuracy plot\n",
        "plt.plot(epochs, acc, color='green', label='Training Accuracy')\n",
        "plt.plot(epochs, val_acc, color='blue', label='Validation Accuracy')\n",
        "plt.title('Training and Validation Accuracy')\n",
        "plt.ylabel('Accuracy')\n",
        "plt.xlabel('Epoch')\n",
        "plt.legend()\n",
        "\n",
        "plt.figure()\n",
        "#loss plot\n",
        "plt.plot(epochs, loss, color='pink', label='Training Loss')\n",
        "plt.plot(epochs, val_loss, color='red', label='Validation Loss')\n",
        "plt.title('Training and Validation Loss')\n",
        "plt.xlabel('Epoch')\n",
        "plt.ylabel('Loss')\n",
        "plt.legend()\n",
        "\n",
        "plt.show()"
      ],
      "metadata": {
        "colab": {
          "base_uri": "https://localhost:8080/",
          "height": 585
        },
        "id": "VuC2JnGJRDJy",
        "outputId": "fa6e3dd4-8daf-4119-ce4e-bdfa1bd616e9"
      },
      "execution_count": null,
      "outputs": [
        {
          "output_type": "display_data",
          "data": {
            "text/plain": [
              "<Figure size 432x288 with 1 Axes>"
            ],
            "image/png": "[encoded data removed]"
          },
          "metadata": {}
        },
        {
          "output_type": "display_data",
          "data": {
            "text/plain": [
              "<Figure size 432x288 with 1 Axes>"
            ],
            "image/png": "[encoded data removed]"
          },
          "metadata": {}
        }
      ]
    },
    {
      "cell_type": "code",
      "source": [
        "model.evaluate(testing_generator)"
      ],
      "metadata": {
        "colab": {
          "base_uri": "https://localhost:8080/"
        },
        "id": "srrP1HZF7wF1",
        "outputId": "8aa4358f-da77-4560-f2d0-84db620d6685"
      },
      "execution_count": null,
      "outputs": [
        {
          "output_type": "stream",
          "name": "stdout",
          "text": [
            "8/8 [==============================] - 2s 239ms/step - loss: 0.0087 - accuracy: 0.9922\n"
          ]
        },
        {
          "output_type": "execute_result",
          "data": {
            "text/plain": [
              "[0.008737052790820599, 0.9921875]"
            ]
          },
          "metadata": {},
          "execution_count": 52
        }
      ]
    },
    {
      "cell_type": "code",
      "source": [
        "model.save(\"/content/drive/MyDrive/model_save/model_save_input_ck+_7_kelas/224x224/99.22%.h5\")"
      ],
      "metadata": {
        "id": "HHlRBy4qRFEW"
      },
      "execution_count": null,
      "outputs": []
    },
    {
      "cell_type": "code",
      "source": [
        "import tensorflow as tf\n",
        "import numpy as np"
      ],
      "metadata": {
        "id": "yn11xO6_626B"
      },
      "execution_count": null,
      "outputs": []
    },
    {
      "cell_type": "code",
      "source": [
        "loaded_model = tf.keras.models.load_model(\"/content/drive/MyDrive/model_save/model_save_input_ck+_7_kelas/224x224/99.22%.h5\")"
      ],
      "metadata": {
        "id": "zeTjb1dC58T1"
      },
      "execution_count": null,
      "outputs": []
    },
    {
      "cell_type": "code",
      "source": [
        "from sklearn.metrics import confusion_matrix\n",
        "import matplotlib.pyplot as plt\n",
        "#Defining function for confusion matrix plot\n",
        "def plot_confusion_matrix(y_true, y_pred, classes,\n",
        "                          normalize=False,\n",
        "                          title=None,\n",
        "                          cmap=plt.cm.Blues):\n",
        "\n",
        "    if not title:\n",
        "        if normalize:\n",
        "            title = 'Normalized confusion matrix'\n",
        "        else:\n",
        "            title = 'Confusion matrix, without normalization'\n",
        "\n",
        "    #Compute confusion matrix\n",
        "    cm = confusion_matrix(y_true, y_pred)\n",
        "    if normalize:\n",
        "        cm = cm.astype('int') / cm.sum(axis=1)[:, np.newaxis]\n",
        "        print(\"Normalized confusion matrix\")\n",
        "    else:\n",
        "        print('Confusion matrix, without normalization')\n",
        "\n",
        "#print(cm)\n",
        "\n",
        "    fig, ax = plt.subplots(figsize=(7,7))\n",
        "    im = ax.imshow(cm, interpolation='nearest', cmap=cmap)\n",
        "    ax.figure.colorbar(im, ax=ax)\n",
        "    # We want to show all ticks...\n",
        "    ax.set(xticks=np.arange(cm.shape[1]),\n",
        "           yticks=np.arange(cm.shape[0]),\n",
        "           # ... and label them with the respective list entries\n",
        "           xticklabels=classes, yticklabels=classes,\n",
        "           title=title,\n",
        "           ylabel='True label',\n",
        "           xlabel='Predicted label')\n",
        "\n",
        "\n",
        "    #Rotate the tick labels and set their alignment.\n",
        "    plt.setp(ax.get_xticklabels(), rotation=45, ha=\"right\",\n",
        "             rotation_mode=\"anchor\")\n",
        "    # Loop over data dimensions and create text annotations.\n",
        "    fmt = '.2f' if normalize else 'd'\n",
        "    thresh = cm.max() / 2.\n",
        "    for i in range(cm.shape[0]):\n",
        "        for j in range(cm.shape[1]):\n",
        "            ax.text(j, i, format(cm[i, j], fmt),\n",
        "                    ha=\"center\", va=\"center\",\n",
        "                    color=\"white\" if cm[i, j] > thresh else \"black\")\n",
        "    fig.tight_layout()\n",
        "    return ax\n",
        "\n",
        "np.set_printoptions(precision=2)"
      ],
      "metadata": {
        "id": "NprnZy1z787m"
      },
      "execution_count": null,
      "outputs": []
    },
    {
      "cell_type": "code",
      "source": [
        "#Plotting the confusion matrix\n",
        "confusion_mtx = confusion_matrix(y_test, preds_probs)\n",
        "class_names=['surprise', 'disgust', 'fear', 'happy', 'sad', 'neutral', 'angry']\n",
        "# Plotting non-normalized confusion matrix\n",
        "plot_confusion_matrix(y_test, preds_probs, classes = class_names, title='Confusion matrix, without normalization')"
      ],
      "metadata": {
        "id": "JkZoinQu7KqQ"
      },
      "execution_count": null,
      "outputs": []
    }
  ]
}