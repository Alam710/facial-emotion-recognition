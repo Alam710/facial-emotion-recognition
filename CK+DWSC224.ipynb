{
  "nbformat": 4,
  "nbformat_minor": 0,
  "metadata": {
    "colab": {
      "provenance": [],
      "gpuType": "T4",
      "mount_file_id": "1AoJcyDNzs4QkQc4WuLXydosQKv6nET_o",
      "authorship_tag": "ABX9TyNcfVMxCCve5ikTBjC/0F+o",
      "include_colab_link": true
    },
    "kernelspec": {
      "name": "python3",
      "display_name": "Python 3"
    },
    "language_info": {
      "name": "python"
    },
    "accelerator": "GPU"
  },
  "cells": [
    {
      "cell_type": "markdown",
      "metadata": {
        "id": "view-in-github",
        "colab_type": "text"
      },
      "source": [
        "<a href=\"https://colab.research.google.com/github/Alam710/facial-emotion-recognition/blob/master/CK%2BDWSC224.ipynb\" target=\"_parent\"><img src=\"https://colab.research.google.com/assets/colab-badge.svg\" alt=\"Open In Colab\"/></a>"
      ]
    },
    {
      "cell_type": "code",
      "execution_count": null,
      "metadata": {
        "id": "CGnmmxzJGzP1"
      },
      "outputs": [],
      "source": [
        "import tensorflow as tf\n",
        "\n",
        "import numpy as np\n",
        "import tensorflow as tf\n",
        "from keras.models import Sequential\n",
        "from keras.layers import Dense, MaxPooling2D, Conv2D, Flatten, Dropout\n",
        "from keras.preprocessing.image import ImageDataGenerator\n",
        "from keras.optimizers import SGD\n",
        "from keras.callbacks import TensorBoard\n",
        "import matplotlib.pyplot as plt\n",
        "import sys, time"
      ]
    },
    {
      "cell_type": "markdown",
      "source": [
        "# Teknik Pertama (ImageGenerator)\n"
      ],
      "metadata": {
        "id": "AnjTPahtdUKO"
      }
    },
    {
      "cell_type": "code",
      "source": [
        "image_size = 224\n",
        "batch_size = 32\n",
        "img_width, img_height = 224, 224"
      ],
      "metadata": {
        "id": "gzyp1FuGHCnu"
      },
      "execution_count": null,
      "outputs": []
    },
    {
      "cell_type": "code",
      "source": [
        "from google.colab import drive\n",
        "drive.mount('/content/drive')"
      ],
      "metadata": {
        "colab": {
          "base_uri": "https://localhost:8080/"
        },
        "id": "9BeKs0uFGG8a",
        "outputId": "46de2ab8-800b-4203-b625-d9cd7d808ed1"
      },
      "execution_count": null,
      "outputs": [
        {
          "output_type": "stream",
          "name": "stdout",
          "text": [
            "Drive already mounted at /content/drive; to attempt to forcibly remount, call drive.mount(\"/content/drive\", force_remount=True).\n"
          ]
        }
      ]
    },
    {
      "cell_type": "code",
      "source": [
        "train_dir = '/content/drive/MyDrive/Tesis/CK_7_KELAS/train/'\n",
        "test_dir = '/content/drive/MyDrive/Tesis/CK_7_KELAS/valid/'\n",
        "testing_dir = '/content/drive/MyDrive/Tesis/CK_7_KELAS/test'\n",
        "input_shape = (image_size, image_size, 3)"
      ],
      "metadata": {
        "id": "I1ZkWfZTHCxL"
      },
      "execution_count": null,
      "outputs": []
    },
    {
      "cell_type": "code",
      "source": [
        "train_datagen = ImageDataGenerator(\n",
        "                    rescale=1./255,\n",
        "                    width_shift_range=0.2,\n",
        "                    height_shift_range=0.2,\n",
        "                    shear_range = 0.2,\n",
        "                    fill_mode = 'nearest')\n",
        "\n",
        "train_generator = train_datagen.flow_from_directory(\n",
        "    train_dir,\n",
        "    target_size=(image_size, image_size),\n",
        "    batch_size=batch_size,\n",
        "    class_mode='categorical')\n"
      ],
      "metadata": {
        "colab": {
          "base_uri": "https://localhost:8080/"
        },
        "id": "xplrZWYRHQwg",
        "outputId": "d281fee0-9329-4a8f-ca04-59f789142748"
      },
      "execution_count": null,
      "outputs": [
        {
          "output_type": "stream",
          "name": "stdout",
          "text": [
            "Found 1001 images belonging to 7 classes.\n"
          ]
        }
      ]
    },
    {
      "cell_type": "code",
      "source": [
        "test_datagen = ImageDataGenerator(\n",
        "                    rescale=1./255,\n",
        "                    rotation_range=20,\n",
        "                    horizontal_flip=True,\n",
        "                    shear_range = 0.2,\n",
        "                    fill_mode = 'nearest')\n",
        "\n",
        "test_generator = test_datagen.flow_from_directory(\n",
        "    test_dir,\n",
        "    target_size=(224, 224),\n",
        "    batch_size=32,\n",
        "    class_mode='categorical')"
      ],
      "metadata": {
        "colab": {
          "base_uri": "https://localhost:8080/"
        },
        "id": "4SwhSDb5HXUP",
        "outputId": "742fdca6-05fd-4f7c-8b67-cadd0f22a089"
      },
      "execution_count": null,
      "outputs": [
        {
          "output_type": "stream",
          "name": "stdout",
          "text": [
            "Found 128 images belonging to 7 classes.\n"
          ]
        }
      ]
    },
    {
      "cell_type": "code",
      "source": [
        "testing_datagen = ImageDataGenerator(\n",
        "                    rescale=1./255,\n",
        "                    rotation_range=20,\n",
        "                    horizontal_flip=True,\n",
        "                    shear_range = 0.2,\n",
        "                    fill_mode = 'nearest'\n",
        ")\n",
        "testing_generator = testing_datagen.flow_from_directory(\n",
        "    testing_dir,\n",
        "    target_size=(image_size, image_size),\n",
        "    batch_size=batch_size,\n",
        "    shuffle=False,\n",
        "    class_mode='categorical')"
      ],
      "metadata": {
        "colab": {
          "base_uri": "https://localhost:8080/"
        },
        "id": "l5Oxw3gjHXWz",
        "outputId": "df4e31f6-75da-40ca-a123-b52982c07e89"
      },
      "execution_count": null,
      "outputs": [
        {
          "output_type": "stream",
          "name": "stdout",
          "text": [
            "Found 128 images belonging to 7 classes.\n"
          ]
        }
      ]
    },
    {
      "cell_type": "code",
      "source": [
        "train_generator.class_indices"
      ],
      "metadata": {
        "colab": {
          "base_uri": "https://localhost:8080/"
        },
        "id": "TWgFZukBHXZb",
        "outputId": "dc77e74c-090a-4bb9-e93e-eb638ba25e64"
      },
      "execution_count": null,
      "outputs": [
        {
          "output_type": "execute_result",
          "data": {
            "text/plain": [
              "{'anger': 0,\n",
              " 'disgust': 1,\n",
              " 'fear': 2,\n",
              " 'happy': 3,\n",
              " 'neutral': 4,\n",
              " 'sadness': 5,\n",
              " 'surprise': 6}"
            ]
          },
          "metadata": {},
          "execution_count": 8
        }
      ]
    },
    {
      "cell_type": "code",
      "source": [
        "import tensorflow\n",
        "from tensorflow.keras.datasets import mnist\n",
        "from tensorflow.keras.models import Sequential\n",
        "from tensorflow.keras.layers import Dense, Dropout, Flatten\n",
        "from tensorflow.keras.layers import SeparableConv2D, MaxPooling2D"
      ],
      "metadata": {
        "id": "s-FQHLsXIFxi"
      },
      "execution_count": null,
      "outputs": []
    },
    {
      "cell_type": "code",
      "source": [
        "\"\"\"\n",
        "# Convert target vectors to categorical targets\n",
        "train_generator = tensorflow.keras.utils.to_categorical(train_generator, 7)\n",
        "test_generator = tensorflow.keras.utils.to_categorical(test_generator, 7)\n",
        "\"\"\""
      ],
      "metadata": {
        "colab": {
          "base_uri": "https://localhost:8080/",
          "height": 52
        },
        "id": "7nyuU_7QGnAD",
        "outputId": "c34b1ec4-88bc-49cc-c0d6-3bea52788c47"
      },
      "execution_count": null,
      "outputs": [
        {
          "output_type": "execute_result",
          "data": {
            "text/plain": [
              "'\\n# Convert target vectors to categorical targets\\ntrain_generator = tensorflow.keras.utils.to_categorical(train_generator, 7)\\ntest_generator = tensorflow.keras.utils.to_categorical(test_generator, 7)\\n'"
            ],
            "application/vnd.google.colaboratory.intrinsic+json": {
              "type": "string"
            }
          },
          "metadata": {},
          "execution_count": 10
        }
      ]
    },
    {
      "cell_type": "code",
      "source": [
        "import tensorflow.keras as keras"
      ],
      "metadata": {
        "id": "aNdyue8CZTO6"
      },
      "execution_count": null,
      "outputs": []
    },
    {
      "cell_type": "code",
      "source": [
        "\"\"\"\n",
        "import tensorflow as tf\n",
        "\n",
        "# Fungsi untuk membuat Separable Convolution\n",
        "def separable_convolution(inputs, filters, kernel_size, strides=1, padding='same'):\n",
        "    depthwise_conv = tf.keras.layers.DepthwiseConv2D(\n",
        "        kernel_size=kernel_size,\n",
        "        strides=strides,\n",
        "        padding=padding,\n",
        "        use_bias=False\n",
        "    )(inputs)\n",
        "    batch_norm = tf.keras.layers.BatchNormalization()(depthwise_conv)\n",
        "    activation = tf.keras.layers.Activation('relu')(batch_norm)\n",
        "    pointwise_conv = tf.keras.layers.Conv2D(\n",
        "        filters=filters,\n",
        "        kernel_size=1,\n",
        "        strides=1,\n",
        "        padding=padding,\n",
        "        use_bias=False\n",
        "    )(activation)\n",
        "    return pointwise_conv\n",
        "\n",
        "# Membuat model\n",
        "input_shape = (224, 224, 3)\n",
        "inputs = tf.keras.layers.Input(shape=input_shape)\n",
        "\n",
        "x = tf.keras.layers.Conv2D(filters=32, kernel_size=(3, 3), strides=(1, 1), padding='same')(inputs)\n",
        "x = tf.keras.layers.BatchNormalization()(x)\n",
        "x = tf.keras.layers.Activation('relu')(x)\n",
        "\n",
        "x = tf.keras.layers.Conv2D(filters=8, kernel_size=(3, 3), strides=(1, 1), padding='same')(x)\n",
        "x = tf.keras.layers.BatchNormalization()(x)\n",
        "x = tf.keras.layers.Activation('relu')(x)\n",
        "\n",
        "x = tf.keras.layers.Conv2D(filters=16, kernel_size=(3, 3), strides=(1, 1), padding='same')(x)\n",
        "x = tf.keras.layers.BatchNormalization()(x)\n",
        "x = tf.keras.layers.Activation('relu')(x)\n",
        "\n",
        "x = tf.keras.layers.Conv2D(filters=16, kernel_size=(3, 3), strides=(1, 1), padding='same')(x)\n",
        "x = tf.keras.layers.BatchNormalization()(x)\n",
        "x = tf.keras.layers.MaxPooling2D(pool_size=(2, 2), strides=(2, 2))(x)\n",
        "x = tf.keras.layers.Activation('relu')(x)\n",
        "\n",
        "x = separable_convolution(x, filters=32, kernel_size=(3, 3))\n",
        "x = tf.keras.layers.BatchNormalization()(x)\n",
        "x = tf.keras.layers.Activation('relu')(x)\n",
        "\n",
        "x = separable_convolution(x, filters=32, kernel_size=(3, 3))\n",
        "x = tf.keras.layers.BatchNormalization()(x)\n",
        "x = tf.keras.layers.Conv2D(filters=16, kernel_size=(1, 1), strides=(1, 1), padding='same')(x)\n",
        "x = tf.keras.layers.BatchNormalization()(x)\n",
        "x = tf.keras.layers.MaxPooling2D(pool_size=(2, 2), strides=(2, 2))(x)\n",
        "x = tf.keras.layers.Activation('relu')(x)\n",
        "\n",
        "x = tf.keras.layers.Conv2D(filters=32, kernel_size=(1, 1), strides=(1, 1), padding='same')(x)\n",
        "x = tf.keras.layers.BatchNormalization()(x)\n",
        "x = tf.keras.layers.Activation('relu')(x)\n",
        "\n",
        "x = tf.keras.layers.Add()([x, tf.keras.layers.BatchNormalization()(x)])\n",
        "x = tf.keras.layers.Activation('relu')(x)\n",
        "\n",
        "x = tf.keras.layers.Conv2D(filters=64, kernel_size=(1, 1), strides=(1, 1), padding='same')(x)\n",
        "x = tf.keras.layers.BatchNormalization()(x)\n",
        "x = tf.keras.layers.Activation('relu')(x)\n",
        "\n",
        "x = tf.keras.layers.Conv2D(filters=64, kernel_size=(3, 3), strides=(1, 1), padding='same')(x)\n",
        "x = tf.keras.layers.BatchNormalization()(x)\n",
        "x = tf.keras.layers.MaxPooling2D(pool_size=(2, 2), strides=(2, 2))(x)\n",
        "x = tf.keras.layers.Activation('relu')(x)\n",
        "\n",
        "x = tf.keras.layers.Conv2D(filters=128, kernel_size=(3, 3), strides=(1, 1), padding='same')(x)\n",
        "x = tf.keras.layers.BatchNormalization()(x)\n",
        "x = tf.keras.layers.Activation('relu')(x)\n",
        "\n",
        "x = tf.keras.layers.Conv2D(filters=128, kernel_size=(3, 3), strides=(1, 1), padding='same')(x)\n",
        "x = tf.keras.layers.BatchNormalization()(x)\n",
        "x = tf.keras.layers.Activation('relu')(x)\n",
        "\n",
        "x = tf.keras.layers.Conv2D(filters=7, kernel_size=(6, 6), strides=(1, 1), padding='valid')(x)\n",
        "x = tf.keras.layers.GlobalAveragePooling2D()(x)\n",
        "\n",
        "outputs = tf.keras.layers.Activation('softmax')(x)\n",
        "\n",
        "model = tf.keras.Model(inputs=inputs, outputs=outputs)\n",
        "\n",
        "# Menampilkan ringkasan model\n",
        "model.summary()\n",
        "\"\"\""
      ],
      "metadata": {
        "id": "G14Pt1UmZdll",
        "colab": {
          "base_uri": "https://localhost:8080/",
          "height": 174
        },
        "outputId": "b1e12f66-e9db-4858-eb11-d13de2f1e91f"
      },
      "execution_count": null,
      "outputs": [
        {
          "output_type": "execute_result",
          "data": {
            "text/plain": [
              "\"\\nimport tensorflow as tf\\n\\n# Fungsi untuk membuat Separable Convolution\\ndef separable_convolution(inputs, filters, kernel_size, strides=1, padding='same'):\\n    depthwise_conv = tf.keras.layers.DepthwiseConv2D(\\n        kernel_size=kernel_size,\\n        strides=strides,\\n        padding=padding,\\n        use_bias=False\\n    )(inputs)\\n    batch_norm = tf.keras.layers.BatchNormalization()(depthwise_conv)\\n    activation = tf.keras.layers.Activation('relu')(batch_norm)\\n    pointwise_conv = tf.keras.layers.Conv2D(\\n        filters=filters,\\n        kernel_size=1,\\n        strides=1,\\n        padding=padding,\\n        use_bias=False\\n    )(activation)\\n    return pointwise_conv\\n\\n# Membuat model\\ninput_shape = (224, 224, 3)\\ninputs = tf.keras.layers.Input(shape=input_shape)\\n\\nx = tf.keras.layers.Conv2D(filters=32, kernel_size=(3, 3), strides=(1, 1), padding='same')(inputs)\\nx = tf.keras.layers.BatchNormalization()(x)\\nx = tf.keras.layers.Activation('relu')(x)\\n\\nx = tf.keras.layers.Conv2D(filters=8, kernel_size=(3, 3), strides=(1, 1), padding='same')(x)\\nx = tf.keras.layers.BatchNormalization()(x)\\nx = tf.keras.layers.Activation('relu')(x)\\n\\nx = tf.keras.layers.Conv2D(filters=16, kernel_size=(3, 3), strides=(1, 1), padding='same')(x)\\nx = tf.keras.layers.BatchNormalization()(x)\\nx = tf.keras.layers.Activation('relu')(x)\\n\\nx = tf.keras.layers.Conv2D(filters=16, kernel_size=(3, 3), strides=(1, 1), padding='same')(x)\\nx = tf.keras.layers.BatchNormalization()(x)\\nx = tf.keras.layers.MaxPooling2D(pool_size=(2, 2), strides=(2, 2))(x)\\nx = tf.keras.layers.Activation('relu')(x)\\n\\nx = separable_convolution(x, filters=32, kernel_size=(3, 3))\\nx = tf.keras.layers.BatchNormalization()(x)\\nx = tf.keras.layers.Activation('relu')(x)\\n\\nx = separable_convolution(x, filters=32, kernel_size=(3, 3))\\nx = tf.keras.layers.BatchNormalization()(x)\\nx = tf.keras.layers.Conv2D(filters=16, kernel_size=(1, 1), strides=(1, 1), padding='same')(x)\\nx = tf.keras.layers.BatchNormalization()(x)\\nx = tf.keras.layers.MaxPooling2D(pool_size=(2, 2), strides=(2, 2))(x)\\nx = tf.keras.layers.Activation('relu')(x)\\n\\nx = tf.keras.layers.Conv2D(filters=32, kernel_size=(1, 1), strides=(1, 1), padding='same')(x)\\nx = tf.keras.layers.BatchNormalization()(x)\\nx = tf.keras.layers.Activation('relu')(x)\\n\\nx = tf.keras.layers.Add()([x, tf.keras.layers.BatchNormalization()(x)])\\nx = tf.keras.layers.Activation('relu')(x)\\n\\nx = tf.keras.layers.Conv2D(filters=64, kernel_size=(1, 1), strides=(1, 1), padding='same')(x)\\nx = tf.keras.layers.BatchNormalization()(x)\\nx = tf.keras.layers.Activation('relu')(x)\\n\\nx = tf.keras.layers.Conv2D(filters=64, kernel_size=(3, 3), strides=(1, 1), padding='same')(x)\\nx = tf.keras.layers.BatchNormalization()(x)\\nx = tf.keras.layers.MaxPooling2D(pool_size=(2, 2), strides=(2, 2))(x)\\nx = tf.keras.layers.Activation('relu')(x)\\n\\nx = tf.keras.layers.Conv2D(filters=128, kernel_size=(3, 3), strides=(1, 1), padding='same')(x)\\nx = tf.keras.layers.BatchNormalization()(x)\\nx = tf.keras.layers.Activation('relu')(x)\\n\\nx = tf.keras.layers.Conv2D(filters=128, kernel_size=(3, 3), strides=(1, 1), padding='same')(x)\\nx = tf.keras.layers.BatchNormalization()(x)\\nx = tf.keras.layers.Activation('relu')(x)\\n\\nx = tf.keras.layers.Conv2D(filters=7, kernel_size=(6, 6), strides=(1, 1), padding='valid')(x)\\nx = tf.keras.layers.GlobalAveragePooling2D()(x)\\n\\noutputs = tf.keras.layers.Activation('softmax')(x)\\n\\nmodel = tf.keras.Model(inputs=inputs, outputs=outputs)\\n\\n# Menampilkan ringkasan model\\nmodel.summary()\\n\""
            ],
            "application/vnd.google.colaboratory.intrinsic+json": {
              "type": "string"
            }
          },
          "metadata": {},
          "execution_count": 12
        }
      ]
    },
    {
      "cell_type": "code",
      "source": [
        "\n",
        "import tensorflow as tf\n",
        "\n",
        "# Membangun model menggunakan TensorFlow\n",
        "inputs = tf.keras.Input(shape=(224, 224, 3))\n",
        "x = tf.keras.layers.Conv2D(8, (3, 3), padding='same')(inputs)\n",
        "x = tf.keras.layers.BatchNormalization()(x)\n",
        "x = tf.keras.layers.Activation('relu')(x)\n",
        "x = tf.keras.layers.Conv2D(8, (3, 3), padding='same')(x)\n",
        "x = tf.keras.layers.BatchNormalization()(x)\n",
        "x = tf.keras.layers.Activation('relu')(x)\n",
        "x = tf.keras.layers.Conv2D(16, (3, 3), padding='same')(x)\n",
        "x = tf.keras.layers.BatchNormalization()(x)\n",
        "x = tf.keras.layers.Activation('relu')(x)\n",
        "x = tf.keras.layers.Conv2D(16, (3, 3), padding='same')(x)\n",
        "x = tf.keras.layers.BatchNormalization()(x)\n",
        "x = tf.keras.layers.MaxPooling2D((2, 2))(x)\n",
        "x = tf.keras.layers.Activation('relu')(x)\n",
        "x = tf.keras.layers.SeparableConv2D(32, (3, 3), padding='same')(x)\n",
        "x = tf.keras.layers.BatchNormalization()(x)\n",
        "x = tf.keras.layers.Activation('relu')(x)\n",
        "x = tf.keras.layers.SeparableConv2D(32, (3, 3), padding='same')(x)\n",
        "x = tf.keras.layers.Conv2D(16, (1, 1), padding='same')(x)\n",
        "x = tf.keras.layers.BatchNormalization()(x)\n",
        "x = tf.keras.layers.MaxPooling2D((2, 2))(x)\n",
        "x = tf.keras.layers.Conv2D(32, (3, 3), padding='same')(x)\n",
        "x = tf.keras.layers.BatchNormalization()(x)\n",
        "x = tf.keras.layers.Activation('relu')(x)\n",
        "x = tf.keras.layers.Add()([x, tf.keras.layers.BatchNormalization()(x)])\n",
        "x = tf.keras.layers.Activation('relu')(x)\n",
        "x = tf.keras.layers.Conv2D(64, (3, 3), padding='same')(x)\n",
        "x = tf.keras.layers.BatchNormalization()(x)\n",
        "x = tf.keras.layers.Activation('relu')(x)\n",
        "x = tf.keras.layers.Conv2D(64, (3, 3), padding='same')(x)\n",
        "x = tf.keras.layers.BatchNormalization()(x)\n",
        "x = tf.keras.layers.MaxPooling2D((2, 2))(x)\n",
        "x = tf.keras.layers.Activation('relu')(x)\n",
        "x = tf.keras.layers.Conv2D(128, (3, 3), padding='same')(x)\n",
        "x = tf.keras.layers.BatchNormalization()(x)\n",
        "x = tf.keras.layers.Activation('relu')(x)\n",
        "x = tf.keras.layers.Conv2D(128, (3, 3), padding='same')(x)\n",
        "x = tf.keras.layers.BatchNormalization()(x)\n",
        "x = tf.keras.layers.Activation('relu')(x)\n",
        "x = tf.keras.layers.MaxPooling2D((2, 2))(x)\n",
        "x = tf.keras.layers.Flatten()(x)\n",
        "x = tf.keras.layers.Dense(512)(x)\n",
        "x = tf.keras.layers.Dense(512)(x)\n",
        "output = tf.keras.layers.Dense(7, activation='softmax')(x)\n",
        "\n",
        "# Membuat model\n",
        "model = tf.keras.Model(inputs=inputs, outputs=output)\n",
        "\n",
        "# Menampilkan ringkasan model\n",
        "model.summary()"
      ],
      "metadata": {
        "colab": {
          "base_uri": "https://localhost:8080/"
        },
        "id": "YGQydcfFaqMa",
        "outputId": "4278be4e-de2d-4590-a244-afc5f110fe51"
      },
      "execution_count": null,
      "outputs": [
        {
          "output_type": "stream",
          "name": "stdout",
          "text": [
            "Model: \"model\"\n",
            "__________________________________________________________________________________________________\n",
            " Layer (type)                   Output Shape         Param #     Connected to                     \n",
            "==================================================================================================\n",
            " input_1 (InputLayer)           [(None, 224, 224, 3  0           []                               \n",
            "                                )]                                                                \n",
            "                                                                                                  \n",
            " conv2d (Conv2D)                (None, 224, 224, 8)  224         ['input_1[0][0]']                \n",
            "                                                                                                  \n",
            " batch_normalization (BatchNorm  (None, 224, 224, 8)  32         ['conv2d[0][0]']                 \n",
            " alization)                                                                                       \n",
            "                                                                                                  \n",
            " activation (Activation)        (None, 224, 224, 8)  0           ['batch_normalization[0][0]']    \n",
            "                                                                                                  \n",
            " conv2d_1 (Conv2D)              (None, 224, 224, 8)  584         ['activation[0][0]']             \n",
            "                                                                                                  \n",
            " batch_normalization_1 (BatchNo  (None, 224, 224, 8)  32         ['conv2d_1[0][0]']               \n",
            " rmalization)                                                                                     \n",
            "                                                                                                  \n",
            " activation_1 (Activation)      (None, 224, 224, 8)  0           ['batch_normalization_1[0][0]']  \n",
            "                                                                                                  \n",
            " conv2d_2 (Conv2D)              (None, 224, 224, 16  1168        ['activation_1[0][0]']           \n",
            "                                )                                                                 \n",
            "                                                                                                  \n",
            " batch_normalization_2 (BatchNo  (None, 224, 224, 16  64         ['conv2d_2[0][0]']               \n",
            " rmalization)                   )                                                                 \n",
            "                                                                                                  \n",
            " activation_2 (Activation)      (None, 224, 224, 16  0           ['batch_normalization_2[0][0]']  \n",
            "                                )                                                                 \n",
            "                                                                                                  \n",
            " conv2d_3 (Conv2D)              (None, 224, 224, 16  2320        ['activation_2[0][0]']           \n",
            "                                )                                                                 \n",
            "                                                                                                  \n",
            " batch_normalization_3 (BatchNo  (None, 224, 224, 16  64         ['conv2d_3[0][0]']               \n",
            " rmalization)                   )                                                                 \n",
            "                                                                                                  \n",
            " max_pooling2d (MaxPooling2D)   (None, 112, 112, 16  0           ['batch_normalization_3[0][0]']  \n",
            "                                )                                                                 \n",
            "                                                                                                  \n",
            " activation_3 (Activation)      (None, 112, 112, 16  0           ['max_pooling2d[0][0]']          \n",
            "                                )                                                                 \n",
            "                                                                                                  \n",
            " separable_conv2d (SeparableCon  (None, 112, 112, 32  688        ['activation_3[0][0]']           \n",
            " v2D)                           )                                                                 \n",
            "                                                                                                  \n",
            " batch_normalization_4 (BatchNo  (None, 112, 112, 32  128        ['separable_conv2d[0][0]']       \n",
            " rmalization)                   )                                                                 \n",
            "                                                                                                  \n",
            " activation_4 (Activation)      (None, 112, 112, 32  0           ['batch_normalization_4[0][0]']  \n",
            "                                )                                                                 \n",
            "                                                                                                  \n",
            " separable_conv2d_1 (SeparableC  (None, 112, 112, 32  1344       ['activation_4[0][0]']           \n",
            " onv2D)                         )                                                                 \n",
            "                                                                                                  \n",
            " conv2d_4 (Conv2D)              (None, 112, 112, 16  528         ['separable_conv2d_1[0][0]']     \n",
            "                                )                                                                 \n",
            "                                                                                                  \n",
            " batch_normalization_5 (BatchNo  (None, 112, 112, 16  64         ['conv2d_4[0][0]']               \n",
            " rmalization)                   )                                                                 \n",
            "                                                                                                  \n",
            " max_pooling2d_1 (MaxPooling2D)  (None, 56, 56, 16)  0           ['batch_normalization_5[0][0]']  \n",
            "                                                                                                  \n",
            " conv2d_5 (Conv2D)              (None, 56, 56, 32)   4640        ['max_pooling2d_1[0][0]']        \n",
            "                                                                                                  \n",
            " batch_normalization_6 (BatchNo  (None, 56, 56, 32)  128         ['conv2d_5[0][0]']               \n",
            " rmalization)                                                                                     \n",
            "                                                                                                  \n",
            " activation_5 (Activation)      (None, 56, 56, 32)   0           ['batch_normalization_6[0][0]']  \n",
            "                                                                                                  \n",
            " batch_normalization_7 (BatchNo  (None, 56, 56, 32)  128         ['activation_5[0][0]']           \n",
            " rmalization)                                                                                     \n",
            "                                                                                                  \n",
            " add (Add)                      (None, 56, 56, 32)   0           ['activation_5[0][0]',           \n",
            "                                                                  'batch_normalization_7[0][0]']  \n",
            "                                                                                                  \n",
            " activation_6 (Activation)      (None, 56, 56, 32)   0           ['add[0][0]']                    \n",
            "                                                                                                  \n",
            " conv2d_6 (Conv2D)              (None, 56, 56, 64)   18496       ['activation_6[0][0]']           \n",
            "                                                                                                  \n",
            " batch_normalization_8 (BatchNo  (None, 56, 56, 64)  256         ['conv2d_6[0][0]']               \n",
            " rmalization)                                                                                     \n",
            "                                                                                                  \n",
            " activation_7 (Activation)      (None, 56, 56, 64)   0           ['batch_normalization_8[0][0]']  \n",
            "                                                                                                  \n",
            " conv2d_7 (Conv2D)              (None, 56, 56, 64)   36928       ['activation_7[0][0]']           \n",
            "                                                                                                  \n",
            " batch_normalization_9 (BatchNo  (None, 56, 56, 64)  256         ['conv2d_7[0][0]']               \n",
            " rmalization)                                                                                     \n",
            "                                                                                                  \n",
            " max_pooling2d_2 (MaxPooling2D)  (None, 28, 28, 64)  0           ['batch_normalization_9[0][0]']  \n",
            "                                                                                                  \n",
            " activation_8 (Activation)      (None, 28, 28, 64)   0           ['max_pooling2d_2[0][0]']        \n",
            "                                                                                                  \n",
            " conv2d_8 (Conv2D)              (None, 28, 28, 128)  73856       ['activation_8[0][0]']           \n",
            "                                                                                                  \n",
            " batch_normalization_10 (BatchN  (None, 28, 28, 128)  512        ['conv2d_8[0][0]']               \n",
            " ormalization)                                                                                    \n",
            "                                                                                                  \n",
            " activation_9 (Activation)      (None, 28, 28, 128)  0           ['batch_normalization_10[0][0]'] \n",
            "                                                                                                  \n",
            " conv2d_9 (Conv2D)              (None, 28, 28, 128)  147584      ['activation_9[0][0]']           \n",
            "                                                                                                  \n",
            " batch_normalization_11 (BatchN  (None, 28, 28, 128)  512        ['conv2d_9[0][0]']               \n",
            " ormalization)                                                                                    \n",
            "                                                                                                  \n",
            " activation_10 (Activation)     (None, 28, 28, 128)  0           ['batch_normalization_11[0][0]'] \n",
            "                                                                                                  \n",
            " max_pooling2d_3 (MaxPooling2D)  (None, 14, 14, 128)  0          ['activation_10[0][0]']          \n",
            "                                                                                                  \n",
            " flatten (Flatten)              (None, 25088)        0           ['max_pooling2d_3[0][0]']        \n",
            "                                                                                                  \n",
            " dense (Dense)                  (None, 512)          12845568    ['flatten[0][0]']                \n",
            "                                                                                                  \n",
            " dense_1 (Dense)                (None, 512)          262656      ['dense[0][0]']                  \n",
            "                                                                                                  \n",
            " dense_2 (Dense)                (None, 7)            3591        ['dense_1[0][0]']                \n",
            "                                                                                                  \n",
            "==================================================================================================\n",
            "Total params: 13,402,351\n",
            "Trainable params: 13,401,263\n",
            "Non-trainable params: 1,088\n",
            "__________________________________________________________________________________________________\n"
          ]
        }
      ]
    },
    {
      "cell_type": "code",
      "source": [
        "# Compile the model\n",
        "model.compile(loss=tensorflow.keras.losses.categorical_crossentropy,\n",
        "              optimizer=tensorflow.keras.optimizers.Adam(),\n",
        "              metrics=['accuracy'])"
      ],
      "metadata": {
        "id": "xS5q6cBCHgk8"
      },
      "execution_count": null,
      "outputs": []
    },
    {
      "cell_type": "code",
      "source": [
        "# checkpoints\n",
        "from tensorflow.keras.callbacks import ModelCheckpoint\n",
        "weightpath = \"model\"\n",
        "checkpoints = ModelCheckpoint(weightpath, monitor='val_acc', verbose=1, save_best_only=True, save_weights_only=True, mode='max')\n",
        "callback_list = [checkpoints]"
      ],
      "metadata": {
        "id": "_czSqqdRH2mV"
      },
      "execution_count": null,
      "outputs": []
    },
    {
      "cell_type": "code",
      "source": [
        "from tensorflow.keras.callbacks import TensorBoard\n",
        "# TensorBoard Callbacks\n",
        "callbacks = TensorBoard(log_dir='./Graph')"
      ],
      "metadata": {
        "id": "vj2m5TVtH2oX"
      },
      "execution_count": null,
      "outputs": []
    },
    {
      "cell_type": "code",
      "source": [
        "class myCallback(tf.keras.callbacks.Callback):\n",
        "  def on_epoch_end(self, epoch, logs={}):\n",
        "    # print(logs)\n",
        "    if(logs.get('val_accuracy') > 0.99):\n",
        "      print(\"\\nAkurasi telah mencapai > 99%!\")\n",
        "      self.model.stop_training = True\n",
        "callbacks = myCallback()"
      ],
      "metadata": {
        "id": "n6G16j8oH2qj"
      },
      "execution_count": null,
      "outputs": []
    },
    {
      "cell_type": "code",
      "source": [
        "def print_time_taken(start_time, end_time):\n",
        "    secs_elapsed = end_time - start_time\n",
        "\n",
        "    SECS_PER_MIN = 60\n",
        "    SECS_PER_HR  = 60 * SECS_PER_MIN\n",
        "\n",
        "    hrs_elapsed, secs_elapsed = divmod(secs_elapsed, SECS_PER_HR)\n",
        "    mins_elapsed, secs_elapsed = divmod(secs_elapsed, SECS_PER_MIN)\n",
        "\n",
        "    if hrs_elapsed > 0:\n",
        "        print('Time taken: %d hrs %d mins %d secs' % (hrs_elapsed, mins_elapsed, secs_elapsed))\n",
        "    elif mins_elapsed > 0:\n",
        "        print('Time taken: %d mins %d secs' % (mins_elapsed, secs_elapsed))\n",
        "    elif secs_elapsed > 1:\n",
        "        print('Time taken: %d secs' % (secs_elapsed))\n",
        "    else:\n",
        "        print('Time taken - less than 1 sec')"
      ],
      "metadata": {
        "id": "sOSGgLOCIGOT"
      },
      "execution_count": null,
      "outputs": []
    },
    {
      "cell_type": "code",
      "source": [
        "import sys, time\n",
        "start_time = time.time()\n",
        "\n",
        "\n",
        "history = model.fit(train_generator,\n",
        "                    steps_per_epoch=len(train_generator),\n",
        "                    validation_data=test_generator,\n",
        "                    # validation_steps=72 *0.15,\n",
        "                    epochs=50,\n",
        "                    verbose=2,\n",
        "                    callbacks=[callbacks])\n",
        "\n",
        "\n",
        "end_time = time.time()\n",
        "print_time_taken(start_time, end_time)"
      ],
      "metadata": {
        "colab": {
          "base_uri": "https://localhost:8080/"
        },
        "id": "mlxXIyVvIGLr",
        "outputId": "3d6f626a-0ea8-4e41-eae4-17681c798c49"
      },
      "execution_count": null,
      "outputs": [
        {
          "output_type": "stream",
          "name": "stdout",
          "text": [
            "Epoch 1/50\n",
            "32/32 - 309s - loss: 49.0400 - accuracy: 0.3317 - val_loss: 125.0941 - val_accuracy: 0.2578 - 309s/epoch - 10s/step\n",
            "Epoch 2/50\n",
            "32/32 - 16s - loss: 6.5826 - accuracy: 0.3956 - val_loss: 6.1398 - val_accuracy: 0.1641 - 16s/epoch - 511ms/step\n",
            "Epoch 3/50\n",
            "32/32 - 17s - loss: 4.9965 - accuracy: 0.3956 - val_loss: 30.0590 - val_accuracy: 0.2578 - 17s/epoch - 546ms/step\n",
            "Epoch 4/50\n",
            "32/32 - 16s - loss: 1.9461 - accuracy: 0.4166 - val_loss: 4.8600 - val_accuracy: 0.2031 - 16s/epoch - 513ms/step\n",
            "Epoch 5/50\n",
            "32/32 - 16s - loss: 1.5633 - accuracy: 0.4116 - val_loss: 5.2899 - val_accuracy: 0.2031 - 16s/epoch - 514ms/step\n",
            "Epoch 6/50\n",
            "32/32 - 17s - loss: 1.9429 - accuracy: 0.4496 - val_loss: 5.1964 - val_accuracy: 0.1641 - 17s/epoch - 519ms/step\n",
            "Epoch 7/50\n",
            "32/32 - 17s - loss: 1.3193 - accuracy: 0.4456 - val_loss: 4.5000 - val_accuracy: 0.2031 - 17s/epoch - 532ms/step\n",
            "Epoch 8/50\n",
            "32/32 - 16s - loss: 1.3143 - accuracy: 0.4585 - val_loss: 3.9546 - val_accuracy: 0.1797 - 16s/epoch - 510ms/step\n",
            "Epoch 9/50\n",
            "32/32 - 17s - loss: 1.2853 - accuracy: 0.4755 - val_loss: 3.5543 - val_accuracy: 0.1719 - 17s/epoch - 534ms/step\n",
            "Epoch 10/50\n",
            "32/32 - 16s - loss: 4.5399 - accuracy: 0.4216 - val_loss: 7.8704 - val_accuracy: 0.1562 - 16s/epoch - 512ms/step\n",
            "Epoch 11/50\n",
            "32/32 - 18s - loss: 5.6187 - accuracy: 0.3916 - val_loss: 14.9320 - val_accuracy: 0.2500 - 18s/epoch - 553ms/step\n",
            "Epoch 12/50\n",
            "32/32 - 17s - loss: 2.2614 - accuracy: 0.4196 - val_loss: 9.9546 - val_accuracy: 0.1953 - 17s/epoch - 531ms/step\n",
            "Epoch 13/50\n",
            "32/32 - 17s - loss: 1.5430 - accuracy: 0.4336 - val_loss: 7.0402 - val_accuracy: 0.2578 - 17s/epoch - 524ms/step\n",
            "Epoch 14/50\n",
            "32/32 - 17s - loss: 1.5859 - accuracy: 0.4865 - val_loss: 6.1004 - val_accuracy: 0.2812 - 17s/epoch - 531ms/step\n",
            "Epoch 15/50\n",
            "32/32 - 17s - loss: 1.6575 - accuracy: 0.4675 - val_loss: 14.0931 - val_accuracy: 0.3672 - 17s/epoch - 542ms/step\n",
            "Epoch 16/50\n",
            "32/32 - 16s - loss: 1.5783 - accuracy: 0.4715 - val_loss: 13.8352 - val_accuracy: 0.3047 - 16s/epoch - 514ms/step\n",
            "Epoch 17/50\n",
            "32/32 - 17s - loss: 1.3704 - accuracy: 0.4605 - val_loss: 14.3198 - val_accuracy: 0.3438 - 17s/epoch - 522ms/step\n",
            "Epoch 18/50\n",
            "32/32 - 18s - loss: 1.2544 - accuracy: 0.4865 - val_loss: 11.7876 - val_accuracy: 0.3828 - 18s/epoch - 560ms/step\n",
            "Epoch 19/50\n",
            "32/32 - 17s - loss: 1.5895 - accuracy: 0.5315 - val_loss: 11.0339 - val_accuracy: 0.3828 - 17s/epoch - 524ms/step\n",
            "Epoch 20/50\n",
            "32/32 - 17s - loss: 1.2470 - accuracy: 0.5485 - val_loss: 26.8180 - val_accuracy: 0.4453 - 17s/epoch - 519ms/step\n",
            "Epoch 21/50\n",
            "32/32 - 17s - loss: 1.4378 - accuracy: 0.5524 - val_loss: 13.3470 - val_accuracy: 0.3438 - 17s/epoch - 545ms/step\n",
            "Epoch 22/50\n",
            "32/32 - 16s - loss: 1.1633 - accuracy: 0.5594 - val_loss: 22.9300 - val_accuracy: 0.3750 - 16s/epoch - 510ms/step\n",
            "Epoch 23/50\n",
            "32/32 - 17s - loss: 1.1070 - accuracy: 0.5754 - val_loss: 31.9614 - val_accuracy: 0.4453 - 17s/epoch - 523ms/step\n",
            "Epoch 24/50\n",
            "32/32 - 16s - loss: 1.1024 - accuracy: 0.5854 - val_loss: 40.4478 - val_accuracy: 0.4375 - 16s/epoch - 513ms/step\n",
            "Epoch 25/50\n",
            "32/32 - 17s - loss: 1.0547 - accuracy: 0.6024 - val_loss: 85.3847 - val_accuracy: 0.4844 - 17s/epoch - 540ms/step\n",
            "Epoch 26/50\n",
            "32/32 - 16s - loss: 1.0846 - accuracy: 0.5704 - val_loss: 64.8659 - val_accuracy: 0.5000 - 16s/epoch - 510ms/step\n",
            "Epoch 27/50\n",
            "32/32 - 17s - loss: 1.0004 - accuracy: 0.6204 - val_loss: 45.5881 - val_accuracy: 0.5703 - 17s/epoch - 523ms/step\n",
            "Epoch 28/50\n",
            "32/32 - 18s - loss: 0.9384 - accuracy: 0.6543 - val_loss: 40.5125 - val_accuracy: 0.5391 - 18s/epoch - 555ms/step\n",
            "Epoch 29/50\n",
            "32/32 - 17s - loss: 0.9291 - accuracy: 0.6643 - val_loss: 30.7434 - val_accuracy: 0.5391 - 17s/epoch - 536ms/step\n",
            "Epoch 30/50\n",
            "32/32 - 17s - loss: 1.1783 - accuracy: 0.6543 - val_loss: 35.7316 - val_accuracy: 0.5078 - 17s/epoch - 525ms/step\n",
            "Epoch 31/50\n",
            "32/32 - 17s - loss: 0.8696 - accuracy: 0.6693 - val_loss: 87.7944 - val_accuracy: 0.5000 - 17s/epoch - 537ms/step\n",
            "Epoch 32/50\n",
            "32/32 - 16s - loss: 0.9262 - accuracy: 0.6783 - val_loss: 29.9651 - val_accuracy: 0.4844 - 16s/epoch - 513ms/step\n",
            "Epoch 33/50\n",
            "32/32 - 16s - loss: 0.8883 - accuracy: 0.6763 - val_loss: 46.0481 - val_accuracy: 0.5312 - 16s/epoch - 508ms/step\n",
            "Epoch 34/50\n",
            "32/32 - 17s - loss: 0.8415 - accuracy: 0.7003 - val_loss: 54.2699 - val_accuracy: 0.5547 - 17s/epoch - 528ms/step\n",
            "Epoch 35/50\n",
            "32/32 - 17s - loss: 0.9401 - accuracy: 0.6683 - val_loss: 18.6870 - val_accuracy: 0.4844 - 17s/epoch - 523ms/step\n",
            "Epoch 36/50\n",
            "32/32 - 17s - loss: 0.7273 - accuracy: 0.7293 - val_loss: 27.8506 - val_accuracy: 0.5859 - 17s/epoch - 522ms/step\n",
            "Epoch 37/50\n",
            "32/32 - 16s - loss: 0.6826 - accuracy: 0.7463 - val_loss: 29.5101 - val_accuracy: 0.5781 - 16s/epoch - 514ms/step\n",
            "Epoch 38/50\n",
            "32/32 - 18s - loss: 0.7632 - accuracy: 0.7193 - val_loss: 35.9798 - val_accuracy: 0.5547 - 18s/epoch - 553ms/step\n",
            "Epoch 39/50\n",
            "32/32 - 17s - loss: 0.7128 - accuracy: 0.7343 - val_loss: 29.9234 - val_accuracy: 0.5391 - 17s/epoch - 520ms/step\n",
            "Epoch 40/50\n",
            "32/32 - 17s - loss: 0.6465 - accuracy: 0.7742 - val_loss: 27.4926 - val_accuracy: 0.6172 - 17s/epoch - 526ms/step\n",
            "Epoch 41/50\n",
            "32/32 - 16s - loss: 0.5805 - accuracy: 0.7802 - val_loss: 40.7360 - val_accuracy: 0.6250 - 16s/epoch - 513ms/step\n",
            "Epoch 42/50\n",
            "32/32 - 17s - loss: 7.3673 - accuracy: 0.6124 - val_loss: 815.5424 - val_accuracy: 0.3359 - 17s/epoch - 518ms/step\n",
            "Epoch 43/50\n",
            "32/32 - 16s - loss: 18.2955 - accuracy: 0.3756 - val_loss: 5170.9634 - val_accuracy: 0.1250 - 16s/epoch - 512ms/step\n",
            "Epoch 44/50\n",
            "32/32 - 18s - loss: 5.8109 - accuracy: 0.3886 - val_loss: 9428.4629 - val_accuracy: 0.2578 - 18s/epoch - 548ms/step\n",
            "Epoch 45/50\n",
            "32/32 - 17s - loss: 4.4192 - accuracy: 0.3916 - val_loss: 412.3064 - val_accuracy: 0.2578 - 17s/epoch - 518ms/step\n",
            "Epoch 46/50\n",
            "32/32 - 17s - loss: 17.9096 - accuracy: 0.3706 - val_loss: 1466.1655 - val_accuracy: 0.2734 - 17s/epoch - 542ms/step\n",
            "Epoch 47/50\n",
            "32/32 - 16s - loss: 4.8845 - accuracy: 0.3896 - val_loss: 2828.6865 - val_accuracy: 0.2969 - 16s/epoch - 506ms/step\n",
            "Epoch 48/50\n",
            "32/32 - 16s - loss: 1.8150 - accuracy: 0.4366 - val_loss: 4417.5527 - val_accuracy: 0.2734 - 16s/epoch - 510ms/step\n",
            "Epoch 49/50\n",
            "32/32 - 17s - loss: 2.9270 - accuracy: 0.4356 - val_loss: 3802.5215 - val_accuracy: 0.2656 - 17s/epoch - 530ms/step\n",
            "Epoch 50/50\n",
            "32/32 - 16s - loss: 1.9140 - accuracy: 0.4515 - val_loss: 988.5204 - val_accuracy: 0.3438 - 16s/epoch - 507ms/step\n",
            "Time taken: 20 mins 20 secs\n"
          ]
        }
      ]
    },
    {
      "cell_type": "code",
      "source": [
        "import matplotlib.pyplot as plt\n",
        "import seaborn as sns\n",
        "sns.set()\n",
        "\n",
        "acc = history.history['accuracy']\n",
        "val_acc = history.history['val_accuracy']\n",
        "loss = history.history['loss']\n",
        "val_loss = history.history['val_loss']\n",
        "epochs = range(1, len(loss) + 1)\n",
        "\n",
        "#accuracy plot\n",
        "plt.plot(epochs, acc, color='green', label='Training Accuracy')\n",
        "plt.plot(epochs, val_acc, color='blue', label='Validation Accuracy')\n",
        "plt.title('Training and Validation Accuracy')\n",
        "plt.ylabel('Accuracy')\n",
        "plt.xlabel('Epoch')\n",
        "plt.legend()\n",
        "\n",
        "plt.figure()\n",
        "#loss plot\n",
        "plt.plot(epochs, loss, color='pink', label='Training Loss')\n",
        "plt.plot(epochs, val_loss, color='red', label='Validation Loss')\n",
        "plt.title('Training and Validation Loss')\n",
        "plt.xlabel('Epoch')\n",
        "plt.ylabel('Loss')\n",
        "plt.legend()\n",
        "\n",
        "plt.show()"
      ],
      "metadata": {
        "id": "qQ8uaH7kIGJP",
        "colab": {
          "base_uri": "https://localhost:8080/",
          "height": 943
        },
        "outputId": "2c6b9800-13a8-4992-8b77-ea7b7438126f"
      },
      "execution_count": null,
      "outputs": [
        {
          "output_type": "display_data",
          "data": {
            "text/plain": [
              "<Figure size 640x480 with 1 Axes>"
            ],
            "image/png": "[encoded data removed]"
          },
          "metadata": {}
        },
        {
          "output_type": "display_data",
          "data": {
            "text/plain": [
              "<Figure size 640x480 with 1 Axes>"
            ],
            "image/png": "[encoded data removed]"
          },
          "metadata": {}
        }
      ]
    },
    {
      "cell_type": "code",
      "source": [
        "test_score = model.evaluate_generator(testing_generator, batch_size)\n",
        "\n",
        "print(\"[INFO] accuracy: {:.2f}%\".format(test_score[1] * 100))\n",
        "print(\"[INFO] Loss: \",test_score[0])"
      ],
      "metadata": {
        "id": "85UauJBdIMty",
        "colab": {
          "base_uri": "https://localhost:8080/"
        },
        "outputId": "d8ca9928-130b-423d-d2c0-49b3b7a729d8"
      },
      "execution_count": null,
      "outputs": [
        {
          "output_type": "stream",
          "name": "stderr",
          "text": [
            "<ipython-input-21-f57e3433d594>:1: UserWarning: `Model.evaluate_generator` is deprecated and will be removed in a future version. Please use `Model.evaluate`, which supports generators.\n",
            "  test_score = model.evaluate_generator(testing_generator, batch_size)\n",
            "WARNING:tensorflow:Your input ran out of data; interrupting training. Make sure that your dataset or generator can generate at least `steps_per_epoch * epochs` batches (in this case, 32 batches). You may need to use the repeat() function when building your dataset.\n"
          ]
        },
        {
          "output_type": "stream",
          "name": "stdout",
          "text": [
            "[INFO] accuracy: 37.50%\n",
            "[INFO] Loss:  752.130126953125\n"
          ]
        }
      ]
    },
    {
      "cell_type": "code",
      "source": [
        "model.save(\"/content/drive/MyDrive/Depthwise Separable Convolution/MODEL_SAVE/CK+DWSC.h5\")"
      ],
      "metadata": {
        "id": "xCGCT1cYIMwe"
      },
      "execution_count": null,
      "outputs": []
    },
    {
      "cell_type": "code",
      "source": [
        "import tensorflow as tf"
      ],
      "metadata": {
        "id": "gu-ymvblIhcL"
      },
      "execution_count": null,
      "outputs": []
    },
    {
      "cell_type": "code",
      "source": [
        "model = tf.keras.models.load_model(\"/content/drive/MyDrive/Depthwise Separable Convolution/MODEL_SAVE/CK+DWSC.h5\")"
      ],
      "metadata": {
        "id": "pKFXj8DvIher"
      },
      "execution_count": null,
      "outputs": []
    },
    {
      "cell_type": "code",
      "source": [
        "#Plot the confusion matrix. Set Normalize = True/False\n",
        "\n",
        "def plot_confusion_matrix(cm, classes, normalize=True, title='Confusion matrix', cmap=plt.cm.Blues):\n",
        "    \"\"\"\n",
        "    This function prints and plots the confusion matrix.\n",
        "    Normalization can be applied by setting `normalize=True`.\n",
        "    \"\"\"\n",
        "    plt.figure(figsize=(10,10))\n",
        "\n",
        "    plt.imshow(cm, interpolation='nearest', cmap=cmap)\n",
        "    plt.title(title)\n",
        "    plt.colorbar()\n",
        "\n",
        "    tick_marks = np.arange(len(classes))\n",
        "    plt.xticks(tick_marks, classes, rotation=45)\n",
        "    plt.yticks(tick_marks, classes)\n",
        "\n",
        "    if normalize:\n",
        "        cm = cm.astype('float') / cm.sum(axis=1)[:, np.newaxis]\n",
        "        cm = np.around(cm, decimals=2)\n",
        "        cm[np.isnan(cm)] = 0.0\n",
        "        print(\"Normalized confusion matrix\")\n",
        "    else:\n",
        "        print('Confusion matrix, without normalization')\n",
        "    thresh = cm.max() / 2.\n",
        "    for i, j in itertools.product(range(cm.shape[0]), range(cm.shape[1])):\n",
        "        plt.text(j, i, cm[i, j],\n",
        "                 horizontalalignment=\"center\",\n",
        "                 color=\"white\" if cm[i, j] > thresh else \"black\")\n",
        "    plt.tight_layout()\n",
        "    plt.ylabel('True label')\n",
        "    plt.xlabel('Predicted label')\n",
        "\n",
        "#Print the Target names\n",
        "from sklearn.metrics import classification_report, confusion_matrix\n",
        "import itertools\n",
        "#shuffle=False\n",
        "\n",
        "target_names = []\n",
        "for key in train_generator.class_indices:\n",
        "    target_names.append(key)\n",
        "\n",
        "# print(target_names)\n",
        "\n",
        "#Confution Matrix\n",
        "\n",
        "Y_pred = model.predict_generator(testing_generator)\n",
        "y_pred = np.argmax(Y_pred, axis=1)\n",
        "print('Confusion Matrix')\n",
        "cm = confusion_matrix(testing_generator.classes, y_pred)\n",
        "plot_confusion_matrix(cm, target_names, title='Confusion Matrix 224 x 224')\n",
        "\n",
        "#Print Classification Report\n",
        "print('Classification Report')\n",
        "print(classification_report(testing_generator.classes, y_pred, target_names=target_names))"
      ],
      "metadata": {
        "id": "_l1GLLBWIkxX"
      },
      "execution_count": null,
      "outputs": []
    },
    {
      "cell_type": "markdown",
      "source": [
        "# Teknik KeDua (Split Pas Training)\n",
        "\n"
      ],
      "metadata": {
        "id": "U7Gdioc3dcCW"
      }
    },
    {
      "cell_type": "code",
      "source": [
        "from google.colab import drive\n",
        "drive.mount('/content/gdrive')"
      ],
      "metadata": {
        "colab": {
          "base_uri": "https://localhost:8080/"
        },
        "id": "-1_3bjcnghhy",
        "outputId": "735a38fe-34da-45dc-b84b-900070c24b71"
      },
      "execution_count": null,
      "outputs": [
        {
          "output_type": "stream",
          "name": "stdout",
          "text": [
            "Mounted at /content/gdrive\n"
          ]
        }
      ]
    },
    {
      "cell_type": "code",
      "source": [
        "# Data Preparation for Classification (Original Image)\n",
        "import os\n",
        "from pathlib import Path\n",
        "\n",
        "data_path = Path('/content/gdrive/MyDrive/Depthwise_Separable_Convolution/CKPLUS')\n",
        "label_names = sorted([subfolder.name for subfolder in data_path.glob('*')])\n",
        "num_classes = len(label_names)\n",
        "\n",
        "class_counts = [0] * num_classes  # Initialize class counts\n",
        "\n",
        "# Iterate over each label folder\n",
        "for i, label_name in enumerate(label_names):\n",
        "    label_path = data_path / label_name\n",
        "\n",
        "    # Recursive function to count images in subfolders\n",
        "    def count_images(folder):\n",
        "        num_images = 0\n",
        "        for item in folder.iterdir():\n",
        "            if item.is_file() and item.suffix.lower() == '.jpg':\n",
        "                num_images += 1\n",
        "            elif item.is_dir():\n",
        "                num_images += count_images(item)\n",
        "        return num_images\n",
        "\n",
        "    # Count the number of images within the label folder\n",
        "    class_counts[i] = count_images(label_path)\n",
        "\n",
        "# Print the number of images and classes\n",
        "print('Number of classes:', num_classes)\n",
        "\n",
        "# Print the number of images for each class\n",
        "for i, label_name in enumerate(label_names):\n",
        "    print(f'Class: {label_name}, Number of images: {class_counts[i]}')"
      ],
      "metadata": {
        "colab": {
          "base_uri": "https://localhost:8080/"
        },
        "id": "cdA_FiTLfW6W",
        "outputId": "d6aa4113-5af8-4f50-f5b4-965d61c71d26"
      },
      "execution_count": null,
      "outputs": [
        {
          "output_type": "stream",
          "name": "stdout",
          "text": [
            "Number of classes: 7\n",
            "Class: angry, Number of images: 136\n",
            "Class: disgust, Number of images: 177\n",
            "Class: fear, Number of images: 75\n",
            "Class: happy, Number of images: 207\n",
            "Class: neutral, Number of images: 327\n",
            "Class: sadness, Number of images: 84\n",
            "Class: surprise, Number of images: 251\n"
          ]
        }
      ]
    },
    {
      "cell_type": "code",
      "source": [
        "import os\n",
        "import cv2\n",
        "import numpy as np\n",
        "from pathlib import Path\n",
        "import tensorflow as tf\n",
        "from sklearn.model_selection import train_test_split\n",
        "from tensorflow.keras import layers, models\n",
        "from tensorflow.keras.applications import EfficientNetB0\n",
        "from tensorflow.keras.applications.efficientnet import preprocess_input as efficientnet_preprocess_input\n",
        "\n",
        "data_path = Path('/content/gdrive/MyDrive/Depthwise_Separable_Convolution/CKPLUS')\n",
        "label_names = sorted([subfolder.name for subfolder in data_path.glob('*')])\n",
        "num_classes = len(label_names)\n",
        "target_image_size = (224, 224)\n",
        "\n",
        "# Create empty lists for images and labels\n",
        "images = []\n",
        "labels = []\n",
        "\n",
        "# Recursive function to load images from subfolders\n",
        "def load_images_from_folder(folder):\n",
        "    for item in folder.iterdir():\n",
        "        if item.is_dir():\n",
        "            load_images_from_folder(item)\n",
        "        elif item.is_file() and item.suffix.lower() == '.jpg':\n",
        "            # Load the image in color\n",
        "            image = cv2.imread(str(item))\n",
        "            image = cv2.cvtColor(image, cv2.COLOR_BGR2RGB)\n",
        "\n",
        "            # Resize the image to the target size (224x224)\n",
        "            image = cv2.resize(image, target_image_size)\n",
        "\n",
        "            # Preprocess the image\n",
        "            image = efficientnet_preprocess_input(image)\n",
        "\n",
        "            # Append the image and label to the lists\n",
        "            images.append(image)\n",
        "            labels.append(label_names.index(folder.name))\n",
        "\n",
        "# Iterate over each label folder\n",
        "for label_name in label_names:\n",
        "    label_path = data_path / label_name\n",
        "    load_images_from_folder(label_path)\n",
        "\n",
        "# Convert the lists to numpy arrays\n",
        "images = np.array(images)\n",
        "labels = np.array(labels)\n",
        "\n",
        "# Split the data into training and testing sets\n",
        "X_train, X_test, y_train, y_test = train_test_split(images, labels, test_size=0.20, random_state=42)\n",
        "\n",
        "# Load the EfficientNetB0 model\n",
        "# base_model = EfficientNetB0(include_top=False, weights='imagenet', input_shape=(target_image_size[0], target_image_size[1], 3))\n",
        "\n",
        "import tensorflow as tf\n",
        "from tensorflow.keras.layers import Conv2D, GlobalAveragePooling2D, Dense, BatchNormalization, Activation, MaxPooling2D, Add, SeparableConv2D\n",
        "\n",
        "def conv_block(inputs, filters, kernel_size, strides, padding='same'):\n",
        "    x = Conv2D(filters=filters, kernel_size=kernel_size, strides=strides, padding=padding)(inputs)\n",
        "    x = BatchNormalization()(x)\n",
        "    x = Activation('relu')(x)\n",
        "    return x\n",
        "\n",
        "def residual_module(inputs, filters, num_blocks, strides):\n",
        "    x = conv_block(inputs, filters, kernel_size=(1, 1), strides=strides)\n",
        "\n",
        "    for _ in range(num_blocks):\n",
        "        y = conv_block(x, filters, kernel_size=(3, 3), strides=(1, 1))\n",
        "        y = conv_block(y, filters, kernel_size=(3, 3), strides=(1, 1))\n",
        "        x = Add()([x, y])\n",
        "\n",
        "    return x\n",
        "\n",
        "def inverted_residual_structure(inputs, filters, num_blocks):\n",
        "    x = conv_block(inputs, filters, kernel_size=(1, 1), strides=(1, 1))\n",
        "\n",
        "    for _ in range(num_blocks):\n",
        "        y = conv_block(x, filters, kernel_size=(3, 3), strides=(1, 1))\n",
        "        y = conv_block(y, filters, kernel_size=(3, 3), strides=(1, 1))\n",
        "        x = Add()([x, y])\n",
        "\n",
        "    return x\n",
        "\n",
        "input_shape = (target_image_size[0], target_image_size[1], 3)\n",
        "num_classes = 7\n",
        "\n",
        "inputs = tf.keras.Input(shape=input_shape)\n",
        "x = conv_block(inputs, filters=32, kernel_size=(5, 5), strides=(1, 1))\n",
        "x = MaxPooling2D(2, 2)(x)\n",
        "x = conv_block(x, filters=64, kernel_size=(5, 5), strides=(1, 1))\n",
        "x = MaxPooling2D(2, 2)(x)\n",
        "x = residual_module(x, filters=128, num_blocks=2, strides=(2, 2))\n",
        "x = inverted_residual_structure(x, filters=256, num_blocks=4)\n",
        "x = residual_module(x, filters=256, num_blocks=2, strides=(2, 2))\n",
        "x = residual_module(x, filters=364, num_blocks=1, strides=(1, 1))\n",
        "x = residual_module(x, filters=364, num_blocks=2, strides=(2, 2))\n",
        "x = inverted_residual_structure(x, filters=512, num_blocks=1)\n",
        "x = SeparableConv2D(filters=728, kernel_size=(1, 1), strides=(1, 1), padding='same')(x)\n",
        "x = GlobalAveragePooling2D()(x)\n",
        "outputs = Dense(num_classes, activation='softmax')(x)\n",
        "\n",
        "model = tf.keras.Model(inputs=inputs, outputs=outputs)\n",
        "\n",
        "model.summary()"
      ],
      "metadata": {
        "id": "4uYlQpBwIk1b",
        "colab": {
          "base_uri": "https://localhost:8080/"
        },
        "outputId": "713afb75-7b46-47e2-e21d-6c7bcad091e0"
      },
      "execution_count": null,
      "outputs": [
        {
          "output_type": "stream",
          "name": "stdout",
          "text": [
            "Model: \"model\"\n",
            "__________________________________________________________________________________________________\n",
            " Layer (type)                   Output Shape         Param #     Connected to                     \n",
            "==================================================================================================\n",
            " input_1 (InputLayer)           [(None, 224, 224, 3  0           []                               \n",
            "                                )]                                                                \n",
            "                                                                                                  \n",
            " conv2d (Conv2D)                (None, 224, 224, 32  2432        ['input_1[0][0]']                \n",
            "                                )                                                                 \n",
            "                                                                                                  \n",
            " batch_normalization (BatchNorm  (None, 224, 224, 32  128        ['conv2d[0][0]']                 \n",
            " alization)                     )                                                                 \n",
            "                                                                                                  \n",
            " activation (Activation)        (None, 224, 224, 32  0           ['batch_normalization[0][0]']    \n",
            "                                )                                                                 \n",
            "                                                                                                  \n",
            " max_pooling2d (MaxPooling2D)   (None, 112, 112, 32  0           ['activation[0][0]']             \n",
            "                                )                                                                 \n",
            "                                                                                                  \n",
            " conv2d_1 (Conv2D)              (None, 112, 112, 64  51264       ['max_pooling2d[0][0]']          \n",
            "                                )                                                                 \n",
            "                                                                                                  \n",
            " batch_normalization_1 (BatchNo  (None, 112, 112, 64  256        ['conv2d_1[0][0]']               \n",
            " rmalization)                   )                                                                 \n",
            "                                                                                                  \n",
            " activation_1 (Activation)      (None, 112, 112, 64  0           ['batch_normalization_1[0][0]']  \n",
            "                                )                                                                 \n",
            "                                                                                                  \n",
            " max_pooling2d_1 (MaxPooling2D)  (None, 56, 56, 64)  0           ['activation_1[0][0]']           \n",
            "                                                                                                  \n",
            " conv2d_2 (Conv2D)              (None, 28, 28, 128)  8320        ['max_pooling2d_1[0][0]']        \n",
            "                                                                                                  \n",
            " batch_normalization_2 (BatchNo  (None, 28, 28, 128)  512        ['conv2d_2[0][0]']               \n",
            " rmalization)                                                                                     \n",
            "                                                                                                  \n",
            " activation_2 (Activation)      (None, 28, 28, 128)  0           ['batch_normalization_2[0][0]']  \n",
            "                                                                                                  \n",
            " conv2d_3 (Conv2D)              (None, 28, 28, 128)  147584      ['activation_2[0][0]']           \n",
            "                                                                                                  \n",
            " batch_normalization_3 (BatchNo  (None, 28, 28, 128)  512        ['conv2d_3[0][0]']               \n",
            " rmalization)                                                                                     \n",
            "                                                                                                  \n",
            " activation_3 (Activation)      (None, 28, 28, 128)  0           ['batch_normalization_3[0][0]']  \n",
            "                                                                                                  \n",
            " conv2d_4 (Conv2D)              (None, 28, 28, 128)  147584      ['activation_3[0][0]']           \n",
            "                                                                                                  \n",
            " batch_normalization_4 (BatchNo  (None, 28, 28, 128)  512        ['conv2d_4[0][0]']               \n",
            " rmalization)                                                                                     \n",
            "                                                                                                  \n",
            " activation_4 (Activation)      (None, 28, 28, 128)  0           ['batch_normalization_4[0][0]']  \n",
            "                                                                                                  \n",
            " add (Add)                      (None, 28, 28, 128)  0           ['activation_2[0][0]',           \n",
            "                                                                  'activation_4[0][0]']           \n",
            "                                                                                                  \n",
            " conv2d_5 (Conv2D)              (None, 28, 28, 128)  147584      ['add[0][0]']                    \n",
            "                                                                                                  \n",
            " batch_normalization_5 (BatchNo  (None, 28, 28, 128)  512        ['conv2d_5[0][0]']               \n",
            " rmalization)                                                                                     \n",
            "                                                                                                  \n",
            " activation_5 (Activation)      (None, 28, 28, 128)  0           ['batch_normalization_5[0][0]']  \n",
            "                                                                                                  \n",
            " conv2d_6 (Conv2D)              (None, 28, 28, 128)  147584      ['activation_5[0][0]']           \n",
            "                                                                                                  \n",
            " batch_normalization_6 (BatchNo  (None, 28, 28, 128)  512        ['conv2d_6[0][0]']               \n",
            " rmalization)                                                                                     \n",
            "                                                                                                  \n",
            " activation_6 (Activation)      (None, 28, 28, 128)  0           ['batch_normalization_6[0][0]']  \n",
            "                                                                                                  \n",
            " add_1 (Add)                    (None, 28, 28, 128)  0           ['add[0][0]',                    \n",
            "                                                                  'activation_6[0][0]']           \n",
            "                                                                                                  \n",
            " conv2d_7 (Conv2D)              (None, 28, 28, 256)  33024       ['add_1[0][0]']                  \n",
            "                                                                                                  \n",
            " batch_normalization_7 (BatchNo  (None, 28, 28, 256)  1024       ['conv2d_7[0][0]']               \n",
            " rmalization)                                                                                     \n",
            "                                                                                                  \n",
            " activation_7 (Activation)      (None, 28, 28, 256)  0           ['batch_normalization_7[0][0]']  \n",
            "                                                                                                  \n",
            " conv2d_8 (Conv2D)              (None, 28, 28, 256)  590080      ['activation_7[0][0]']           \n",
            "                                                                                                  \n",
            " batch_normalization_8 (BatchNo  (None, 28, 28, 256)  1024       ['conv2d_8[0][0]']               \n",
            " rmalization)                                                                                     \n",
            "                                                                                                  \n",
            " activation_8 (Activation)      (None, 28, 28, 256)  0           ['batch_normalization_8[0][0]']  \n",
            "                                                                                                  \n",
            " conv2d_9 (Conv2D)              (None, 28, 28, 256)  590080      ['activation_8[0][0]']           \n",
            "                                                                                                  \n",
            " batch_normalization_9 (BatchNo  (None, 28, 28, 256)  1024       ['conv2d_9[0][0]']               \n",
            " rmalization)                                                                                     \n",
            "                                                                                                  \n",
            " activation_9 (Activation)      (None, 28, 28, 256)  0           ['batch_normalization_9[0][0]']  \n",
            "                                                                                                  \n",
            " add_2 (Add)                    (None, 28, 28, 256)  0           ['activation_7[0][0]',           \n",
            "                                                                  'activation_9[0][0]']           \n",
            "                                                                                                  \n",
            " conv2d_10 (Conv2D)             (None, 28, 28, 256)  590080      ['add_2[0][0]']                  \n",
            "                                                                                                  \n",
            " batch_normalization_10 (BatchN  (None, 28, 28, 256)  1024       ['conv2d_10[0][0]']              \n",
            " ormalization)                                                                                    \n",
            "                                                                                                  \n",
            " activation_10 (Activation)     (None, 28, 28, 256)  0           ['batch_normalization_10[0][0]'] \n",
            "                                                                                                  \n",
            " conv2d_11 (Conv2D)             (None, 28, 28, 256)  590080      ['activation_10[0][0]']          \n",
            "                                                                                                  \n",
            " batch_normalization_11 (BatchN  (None, 28, 28, 256)  1024       ['conv2d_11[0][0]']              \n",
            " ormalization)                                                                                    \n",
            "                                                                                                  \n",
            " activation_11 (Activation)     (None, 28, 28, 256)  0           ['batch_normalization_11[0][0]'] \n",
            "                                                                                                  \n",
            " add_3 (Add)                    (None, 28, 28, 256)  0           ['add_2[0][0]',                  \n",
            "                                                                  'activation_11[0][0]']          \n",
            "                                                                                                  \n",
            " conv2d_12 (Conv2D)             (None, 28, 28, 256)  590080      ['add_3[0][0]']                  \n",
            "                                                                                                  \n",
            " batch_normalization_12 (BatchN  (None, 28, 28, 256)  1024       ['conv2d_12[0][0]']              \n",
            " ormalization)                                                                                    \n",
            "                                                                                                  \n",
            " activation_12 (Activation)     (None, 28, 28, 256)  0           ['batch_normalization_12[0][0]'] \n",
            "                                                                                                  \n",
            " conv2d_13 (Conv2D)             (None, 28, 28, 256)  590080      ['activation_12[0][0]']          \n",
            "                                                                                                  \n",
            " batch_normalization_13 (BatchN  (None, 28, 28, 256)  1024       ['conv2d_13[0][0]']              \n",
            " ormalization)                                                                                    \n",
            "                                                                                                  \n",
            " activation_13 (Activation)     (None, 28, 28, 256)  0           ['batch_normalization_13[0][0]'] \n",
            "                                                                                                  \n",
            " add_4 (Add)                    (None, 28, 28, 256)  0           ['add_3[0][0]',                  \n",
            "                                                                  'activation_13[0][0]']          \n",
            "                                                                                                  \n",
            " conv2d_14 (Conv2D)             (None, 28, 28, 256)  590080      ['add_4[0][0]']                  \n",
            "                                                                                                  \n",
            " batch_normalization_14 (BatchN  (None, 28, 28, 256)  1024       ['conv2d_14[0][0]']              \n",
            " ormalization)                                                                                    \n",
            "                                                                                                  \n",
            " activation_14 (Activation)     (None, 28, 28, 256)  0           ['batch_normalization_14[0][0]'] \n",
            "                                                                                                  \n",
            " conv2d_15 (Conv2D)             (None, 28, 28, 256)  590080      ['activation_14[0][0]']          \n",
            "                                                                                                  \n",
            " batch_normalization_15 (BatchN  (None, 28, 28, 256)  1024       ['conv2d_15[0][0]']              \n",
            " ormalization)                                                                                    \n",
            "                                                                                                  \n",
            " activation_15 (Activation)     (None, 28, 28, 256)  0           ['batch_normalization_15[0][0]'] \n",
            "                                                                                                  \n",
            " add_5 (Add)                    (None, 28, 28, 256)  0           ['add_4[0][0]',                  \n",
            "                                                                  'activation_15[0][0]']          \n",
            "                                                                                                  \n",
            " conv2d_16 (Conv2D)             (None, 14, 14, 256)  65792       ['add_5[0][0]']                  \n",
            "                                                                                                  \n",
            " batch_normalization_16 (BatchN  (None, 14, 14, 256)  1024       ['conv2d_16[0][0]']              \n",
            " ormalization)                                                                                    \n",
            "                                                                                                  \n",
            " activation_16 (Activation)     (None, 14, 14, 256)  0           ['batch_normalization_16[0][0]'] \n",
            "                                                                                                  \n",
            " conv2d_17 (Conv2D)             (None, 14, 14, 256)  590080      ['activation_16[0][0]']          \n",
            "                                                                                                  \n",
            " batch_normalization_17 (BatchN  (None, 14, 14, 256)  1024       ['conv2d_17[0][0]']              \n",
            " ormalization)                                                                                    \n",
            "                                                                                                  \n",
            " activation_17 (Activation)     (None, 14, 14, 256)  0           ['batch_normalization_17[0][0]'] \n",
            "                                                                                                  \n",
            " conv2d_18 (Conv2D)             (None, 14, 14, 256)  590080      ['activation_17[0][0]']          \n",
            "                                                                                                  \n",
            " batch_normalization_18 (BatchN  (None, 14, 14, 256)  1024       ['conv2d_18[0][0]']              \n",
            " ormalization)                                                                                    \n",
            "                                                                                                  \n",
            " activation_18 (Activation)     (None, 14, 14, 256)  0           ['batch_normalization_18[0][0]'] \n",
            "                                                                                                  \n",
            " add_6 (Add)                    (None, 14, 14, 256)  0           ['activation_16[0][0]',          \n",
            "                                                                  'activation_18[0][0]']          \n",
            "                                                                                                  \n",
            " conv2d_19 (Conv2D)             (None, 14, 14, 256)  590080      ['add_6[0][0]']                  \n",
            "                                                                                                  \n",
            " batch_normalization_19 (BatchN  (None, 14, 14, 256)  1024       ['conv2d_19[0][0]']              \n",
            " ormalization)                                                                                    \n",
            "                                                                                                  \n",
            " activation_19 (Activation)     (None, 14, 14, 256)  0           ['batch_normalization_19[0][0]'] \n",
            "                                                                                                  \n",
            " conv2d_20 (Conv2D)             (None, 14, 14, 256)  590080      ['activation_19[0][0]']          \n",
            "                                                                                                  \n",
            " batch_normalization_20 (BatchN  (None, 14, 14, 256)  1024       ['conv2d_20[0][0]']              \n",
            " ormalization)                                                                                    \n",
            "                                                                                                  \n",
            " activation_20 (Activation)     (None, 14, 14, 256)  0           ['batch_normalization_20[0][0]'] \n",
            "                                                                                                  \n",
            " add_7 (Add)                    (None, 14, 14, 256)  0           ['add_6[0][0]',                  \n",
            "                                                                  'activation_20[0][0]']          \n",
            "                                                                                                  \n",
            " conv2d_21 (Conv2D)             (None, 14, 14, 364)  93548       ['add_7[0][0]']                  \n",
            "                                                                                                  \n",
            " batch_normalization_21 (BatchN  (None, 14, 14, 364)  1456       ['conv2d_21[0][0]']              \n",
            " ormalization)                                                                                    \n",
            "                                                                                                  \n",
            " activation_21 (Activation)     (None, 14, 14, 364)  0           ['batch_normalization_21[0][0]'] \n",
            "                                                                                                  \n",
            " conv2d_22 (Conv2D)             (None, 14, 14, 364)  1192828     ['activation_21[0][0]']          \n",
            "                                                                                                  \n",
            " batch_normalization_22 (BatchN  (None, 14, 14, 364)  1456       ['conv2d_22[0][0]']              \n",
            " ormalization)                                                                                    \n",
            "                                                                                                  \n",
            " activation_22 (Activation)     (None, 14, 14, 364)  0           ['batch_normalization_22[0][0]'] \n",
            "                                                                                                  \n",
            " conv2d_23 (Conv2D)             (None, 14, 14, 364)  1192828     ['activation_22[0][0]']          \n",
            "                                                                                                  \n",
            " batch_normalization_23 (BatchN  (None, 14, 14, 364)  1456       ['conv2d_23[0][0]']              \n",
            " ormalization)                                                                                    \n",
            "                                                                                                  \n",
            " activation_23 (Activation)     (None, 14, 14, 364)  0           ['batch_normalization_23[0][0]'] \n",
            "                                                                                                  \n",
            " add_8 (Add)                    (None, 14, 14, 364)  0           ['activation_21[0][0]',          \n",
            "                                                                  'activation_23[0][0]']          \n",
            "                                                                                                  \n",
            " conv2d_24 (Conv2D)             (None, 7, 7, 364)    132860      ['add_8[0][0]']                  \n",
            "                                                                                                  \n",
            " batch_normalization_24 (BatchN  (None, 7, 7, 364)   1456        ['conv2d_24[0][0]']              \n",
            " ormalization)                                                                                    \n",
            "                                                                                                  \n",
            " activation_24 (Activation)     (None, 7, 7, 364)    0           ['batch_normalization_24[0][0]'] \n",
            "                                                                                                  \n",
            " conv2d_25 (Conv2D)             (None, 7, 7, 364)    1192828     ['activation_24[0][0]']          \n",
            "                                                                                                  \n",
            " batch_normalization_25 (BatchN  (None, 7, 7, 364)   1456        ['conv2d_25[0][0]']              \n",
            " ormalization)                                                                                    \n",
            "                                                                                                  \n",
            " activation_25 (Activation)     (None, 7, 7, 364)    0           ['batch_normalization_25[0][0]'] \n",
            "                                                                                                  \n",
            " conv2d_26 (Conv2D)             (None, 7, 7, 364)    1192828     ['activation_25[0][0]']          \n",
            "                                                                                                  \n",
            " batch_normalization_26 (BatchN  (None, 7, 7, 364)   1456        ['conv2d_26[0][0]']              \n",
            " ormalization)                                                                                    \n",
            "                                                                                                  \n",
            " activation_26 (Activation)     (None, 7, 7, 364)    0           ['batch_normalization_26[0][0]'] \n",
            "                                                                                                  \n",
            " add_9 (Add)                    (None, 7, 7, 364)    0           ['activation_24[0][0]',          \n",
            "                                                                  'activation_26[0][0]']          \n",
            "                                                                                                  \n",
            " conv2d_27 (Conv2D)             (None, 7, 7, 364)    1192828     ['add_9[0][0]']                  \n",
            "                                                                                                  \n",
            " batch_normalization_27 (BatchN  (None, 7, 7, 364)   1456        ['conv2d_27[0][0]']              \n",
            " ormalization)                                                                                    \n",
            "                                                                                                  \n",
            " activation_27 (Activation)     (None, 7, 7, 364)    0           ['batch_normalization_27[0][0]'] \n",
            "                                                                                                  \n",
            " conv2d_28 (Conv2D)             (None, 7, 7, 364)    1192828     ['activation_27[0][0]']          \n",
            "                                                                                                  \n",
            " batch_normalization_28 (BatchN  (None, 7, 7, 364)   1456        ['conv2d_28[0][0]']              \n",
            " ormalization)                                                                                    \n",
            "                                                                                                  \n",
            " activation_28 (Activation)     (None, 7, 7, 364)    0           ['batch_normalization_28[0][0]'] \n",
            "                                                                                                  \n",
            " add_10 (Add)                   (None, 7, 7, 364)    0           ['add_9[0][0]',                  \n",
            "                                                                  'activation_28[0][0]']          \n",
            "                                                                                                  \n",
            " conv2d_29 (Conv2D)             (None, 7, 7, 512)    186880      ['add_10[0][0]']                 \n",
            "                                                                                                  \n",
            " batch_normalization_29 (BatchN  (None, 7, 7, 512)   2048        ['conv2d_29[0][0]']              \n",
            " ormalization)                                                                                    \n",
            "                                                                                                  \n",
            " activation_29 (Activation)     (None, 7, 7, 512)    0           ['batch_normalization_29[0][0]'] \n",
            "                                                                                                  \n",
            " conv2d_30 (Conv2D)             (None, 7, 7, 512)    2359808     ['activation_29[0][0]']          \n",
            "                                                                                                  \n",
            " batch_normalization_30 (BatchN  (None, 7, 7, 512)   2048        ['conv2d_30[0][0]']              \n",
            " ormalization)                                                                                    \n",
            "                                                                                                  \n",
            " activation_30 (Activation)     (None, 7, 7, 512)    0           ['batch_normalization_30[0][0]'] \n",
            "                                                                                                  \n",
            " conv2d_31 (Conv2D)             (None, 7, 7, 512)    2359808     ['activation_30[0][0]']          \n",
            "                                                                                                  \n",
            " batch_normalization_31 (BatchN  (None, 7, 7, 512)   2048        ['conv2d_31[0][0]']              \n",
            " ormalization)                                                                                    \n",
            "                                                                                                  \n",
            " activation_31 (Activation)     (None, 7, 7, 512)    0           ['batch_normalization_31[0][0]'] \n",
            "                                                                                                  \n",
            " add_11 (Add)                   (None, 7, 7, 512)    0           ['activation_29[0][0]',          \n",
            "                                                                  'activation_31[0][0]']          \n",
            "                                                                                                  \n",
            " separable_conv2d (SeparableCon  (None, 7, 7, 728)   373976      ['add_11[0][0]']                 \n",
            " v2D)                                                                                             \n",
            "                                                                                                  \n",
            " global_average_pooling2d (Glob  (None, 728)         0           ['separable_conv2d[0][0]']       \n",
            " alAveragePooling2D)                                                                              \n",
            "                                                                                                  \n",
            " dense (Dense)                  (None, 7)            5103        ['global_average_pooling2d[0][0]'\n",
            "                                                                 ]                                \n",
            "                                                                                                  \n",
            "==================================================================================================\n",
            "Total params: 20,536,151\n",
            "Trainable params: 20,518,615\n",
            "Non-trainable params: 17,536\n",
            "__________________________________________________________________________________________________\n"
          ]
        }
      ]
    },
    {
      "cell_type": "code",
      "source": [
        "import tensorflow as tf\n",
        "# from tensorflow.keras.callbacks import EarlyStopping\n",
        "\n",
        "# Compile the model\n",
        "model.compile(optimizer='adam',\n",
        "              loss=tf.keras.losses.SparseCategoricalCrossentropy(),\n",
        "              metrics=['accuracy'])\n",
        "\n",
        "# Define early stopping callback\n",
        "# early_stopping = EarlyStopping(monitor='val_accuracy', patience=0.01, mode='max', verbose=1)\n",
        "\n",
        "# Train the model with early stopping\n",
        "history_model = model.fit(X_train, y_train, epochs=100, batch_size=32, validation_data=(X_test, y_test))\n"
      ],
      "metadata": {
        "id": "DpJozq22sioI",
        "colab": {
          "base_uri": "https://localhost:8080/"
        },
        "outputId": "4c5e6a0c-7b5d-4cb6-a65a-6fce7a816ed8"
      },
      "execution_count": null,
      "outputs": [
        {
          "output_type": "stream",
          "name": "stdout",
          "text": [
            "Epoch 1/100\n",
            "32/32 [==============================] - 52s 354ms/step - loss: 1.4284 - accuracy: 0.4279 - val_loss: 25131738.0000 - val_accuracy: 0.2103\n",
            "Epoch 2/100\n",
            "32/32 [==============================] - 8s 240ms/step - loss: 1.3094 - accuracy: 0.4408 - val_loss: 20104.0078 - val_accuracy: 0.2103\n",
            "Epoch 3/100\n",
            "32/32 [==============================] - 8s 239ms/step - loss: 1.2941 - accuracy: 0.4418 - val_loss: 103.7856 - val_accuracy: 0.2103\n",
            "Epoch 4/100\n",
            "32/32 [==============================] - 8s 240ms/step - loss: 1.2648 - accuracy: 0.4647 - val_loss: 63.2273 - val_accuracy: 0.2103\n",
            "Epoch 5/100\n",
            "32/32 [==============================] - 8s 242ms/step - loss: 1.2621 - accuracy: 0.4756 - val_loss: 374.5074 - val_accuracy: 0.2103\n",
            "Epoch 6/100\n",
            "32/32 [==============================] - 8s 246ms/step - loss: 1.2175 - accuracy: 0.4687 - val_loss: 3.0316 - val_accuracy: 0.3929\n",
            "Epoch 7/100\n",
            "32/32 [==============================] - 8s 247ms/step - loss: 1.1252 - accuracy: 0.5423 - val_loss: 9.8145 - val_accuracy: 0.2778\n",
            "Epoch 8/100\n",
            "32/32 [==============================] - 8s 242ms/step - loss: 1.1419 - accuracy: 0.5632 - val_loss: 5.9789 - val_accuracy: 0.2103\n",
            "Epoch 9/100\n",
            "32/32 [==============================] - 8s 242ms/step - loss: 0.9607 - accuracy: 0.5970 - val_loss: 58.7636 - val_accuracy: 0.2103\n",
            "Epoch 10/100\n",
            "32/32 [==============================] - 8s 241ms/step - loss: 0.8126 - accuracy: 0.6468 - val_loss: 3.1036 - val_accuracy: 0.4405\n",
            "Epoch 11/100\n",
            "32/32 [==============================] - 8s 241ms/step - loss: 0.7628 - accuracy: 0.6925 - val_loss: 138.8478 - val_accuracy: 0.2103\n",
            "Epoch 12/100\n",
            "32/32 [==============================] - 8s 242ms/step - loss: 0.7072 - accuracy: 0.7075 - val_loss: 10.5100 - val_accuracy: 0.2103\n",
            "Epoch 13/100\n",
            "32/32 [==============================] - 8s 251ms/step - loss: 0.5616 - accuracy: 0.7562 - val_loss: 3.9605 - val_accuracy: 0.2937\n",
            "Epoch 14/100\n",
            "32/32 [==============================] - 8s 242ms/step - loss: 0.6176 - accuracy: 0.7652 - val_loss: 14.2625 - val_accuracy: 0.2103\n",
            "Epoch 15/100\n",
            "32/32 [==============================] - 8s 243ms/step - loss: 0.4979 - accuracy: 0.8060 - val_loss: 4.4295 - val_accuracy: 0.3889\n",
            "Epoch 16/100\n",
            "32/32 [==============================] - 8s 253ms/step - loss: 0.6670 - accuracy: 0.7403 - val_loss: 910.0819 - val_accuracy: 0.2103\n",
            "Epoch 17/100\n",
            "32/32 [==============================] - 8s 244ms/step - loss: 0.9976 - accuracy: 0.6507 - val_loss: 22863.8281 - val_accuracy: 0.2103\n",
            "Epoch 18/100\n",
            "32/32 [==============================] - 8s 244ms/step - loss: 0.6698 - accuracy: 0.7622 - val_loss: 934.2524 - val_accuracy: 0.2103\n",
            "Epoch 19/100\n",
            "32/32 [==============================] - 8s 244ms/step - loss: 0.5552 - accuracy: 0.8000 - val_loss: 26.1738 - val_accuracy: 0.2183\n",
            "Epoch 20/100\n",
            "32/32 [==============================] - 8s 242ms/step - loss: 0.4353 - accuracy: 0.8289 - val_loss: 2.2590 - val_accuracy: 0.4325\n",
            "Epoch 21/100\n",
            "32/32 [==============================] - 8s 245ms/step - loss: 0.4652 - accuracy: 0.8388 - val_loss: 4.5465 - val_accuracy: 0.4246\n",
            "Epoch 22/100\n",
            "32/32 [==============================] - 8s 243ms/step - loss: 0.3427 - accuracy: 0.8736 - val_loss: 28.5490 - val_accuracy: 0.2103\n",
            "Epoch 23/100\n",
            "32/32 [==============================] - 8s 245ms/step - loss: 0.2529 - accuracy: 0.9065 - val_loss: 0.8361 - val_accuracy: 0.7460\n",
            "Epoch 24/100\n",
            "32/32 [==============================] - 8s 243ms/step - loss: 0.2629 - accuracy: 0.9045 - val_loss: 57.6515 - val_accuracy: 0.2103\n",
            "Epoch 25/100\n",
            "32/32 [==============================] - 8s 242ms/step - loss: 0.3478 - accuracy: 0.8796 - val_loss: 1.1410 - val_accuracy: 0.7897\n",
            "Epoch 26/100\n",
            "32/32 [==============================] - 8s 244ms/step - loss: 0.2176 - accuracy: 0.9144 - val_loss: 1.4542 - val_accuracy: 0.6825\n",
            "Epoch 27/100\n",
            "32/32 [==============================] - 8s 243ms/step - loss: 0.1574 - accuracy: 0.9443 - val_loss: 0.6768 - val_accuracy: 0.7659\n",
            "Epoch 28/100\n",
            "32/32 [==============================] - 8s 242ms/step - loss: 0.1489 - accuracy: 0.9413 - val_loss: 0.4661 - val_accuracy: 0.8532\n",
            "Epoch 29/100\n",
            "32/32 [==============================] - 8s 242ms/step - loss: 0.2120 - accuracy: 0.9294 - val_loss: 0.4942 - val_accuracy: 0.8810\n",
            "Epoch 30/100\n",
            "32/32 [==============================] - 8s 243ms/step - loss: 0.1932 - accuracy: 0.9313 - val_loss: 0.5363 - val_accuracy: 0.8056\n",
            "Epoch 31/100\n",
            "32/32 [==============================] - 8s 243ms/step - loss: 0.2074 - accuracy: 0.9224 - val_loss: 1.8248 - val_accuracy: 0.5873\n",
            "Epoch 32/100\n",
            "32/32 [==============================] - 8s 242ms/step - loss: 0.1234 - accuracy: 0.9552 - val_loss: 22.0711 - val_accuracy: 0.2143\n",
            "Epoch 33/100\n",
            "32/32 [==============================] - 8s 243ms/step - loss: 0.0937 - accuracy: 0.9682 - val_loss: 0.2024 - val_accuracy: 0.9365\n",
            "Epoch 34/100\n",
            "32/32 [==============================] - 8s 244ms/step - loss: 0.0772 - accuracy: 0.9721 - val_loss: 0.1459 - val_accuracy: 0.9643\n",
            "Epoch 35/100\n",
            "32/32 [==============================] - 8s 242ms/step - loss: 0.0353 - accuracy: 0.9891 - val_loss: 0.6267 - val_accuracy: 0.7937\n",
            "Epoch 36/100\n",
            "32/32 [==============================] - 8s 243ms/step - loss: 0.0718 - accuracy: 0.9721 - val_loss: 31.7142 - val_accuracy: 0.2103\n",
            "Epoch 37/100\n",
            "32/32 [==============================] - 8s 245ms/step - loss: 0.0408 - accuracy: 0.9881 - val_loss: 1.7339 - val_accuracy: 0.6349\n",
            "Epoch 38/100\n",
            "32/32 [==============================] - 8s 241ms/step - loss: 0.0706 - accuracy: 0.9791 - val_loss: 0.1817 - val_accuracy: 0.9841\n",
            "Epoch 39/100\n",
            "32/32 [==============================] - 8s 242ms/step - loss: 0.0558 - accuracy: 0.9771 - val_loss: 0.4720 - val_accuracy: 0.8929\n",
            "Epoch 40/100\n",
            "32/32 [==============================] - 8s 244ms/step - loss: 0.2411 - accuracy: 0.9224 - val_loss: 40.8885 - val_accuracy: 0.2103\n",
            "Epoch 41/100\n",
            "32/32 [==============================] - 8s 244ms/step - loss: 0.0653 - accuracy: 0.9781 - val_loss: 271.0560 - val_accuracy: 0.2103\n",
            "Epoch 42/100\n",
            "32/32 [==============================] - 8s 244ms/step - loss: 0.0260 - accuracy: 0.9930 - val_loss: 11.7112 - val_accuracy: 0.3095\n",
            "Epoch 43/100\n",
            "32/32 [==============================] - 8s 241ms/step - loss: 0.0129 - accuracy: 0.9980 - val_loss: 0.2526 - val_accuracy: 0.9643\n",
            "Epoch 44/100\n",
            "32/32 [==============================] - 8s 242ms/step - loss: 0.0180 - accuracy: 0.9960 - val_loss: 0.1370 - val_accuracy: 0.9881\n",
            "Epoch 45/100\n",
            "32/32 [==============================] - 8s 243ms/step - loss: 0.0089 - accuracy: 0.9980 - val_loss: 0.1820 - val_accuracy: 0.9841\n",
            "Epoch 46/100\n",
            "32/32 [==============================] - 8s 245ms/step - loss: 0.0136 - accuracy: 0.9940 - val_loss: 0.1554 - val_accuracy: 0.9881\n",
            "Epoch 47/100\n",
            "32/32 [==============================] - 8s 244ms/step - loss: 0.0537 - accuracy: 0.9781 - val_loss: 1.2088 - val_accuracy: 0.7897\n",
            "Epoch 48/100\n",
            "32/32 [==============================] - 8s 244ms/step - loss: 0.0465 - accuracy: 0.9831 - val_loss: 0.4041 - val_accuracy: 0.9127\n",
            "Epoch 49/100\n",
            "32/32 [==============================] - 8s 243ms/step - loss: 0.0650 - accuracy: 0.9771 - val_loss: 0.8029 - val_accuracy: 0.8373\n",
            "Epoch 50/100\n",
            "32/32 [==============================] - 8s 243ms/step - loss: 0.1074 - accuracy: 0.9642 - val_loss: 2.1538 - val_accuracy: 0.7063\n",
            "Epoch 51/100\n",
            "32/32 [==============================] - 8s 244ms/step - loss: 0.0666 - accuracy: 0.9821 - val_loss: 0.3260 - val_accuracy: 0.9365\n",
            "Epoch 52/100\n",
            "32/32 [==============================] - 8s 244ms/step - loss: 0.0352 - accuracy: 0.9910 - val_loss: 0.2622 - val_accuracy: 0.9524\n",
            "Epoch 53/100\n",
            "32/32 [==============================] - 8s 242ms/step - loss: 0.0073 - accuracy: 0.9990 - val_loss: 0.1211 - val_accuracy: 0.9841\n",
            "Epoch 54/100\n",
            "32/32 [==============================] - 8s 245ms/step - loss: 0.0034 - accuracy: 1.0000 - val_loss: 0.1202 - val_accuracy: 0.9960\n",
            "Epoch 55/100\n",
            "32/32 [==============================] - 8s 243ms/step - loss: 0.0039 - accuracy: 0.9990 - val_loss: 0.1069 - val_accuracy: 0.9960\n",
            "Epoch 56/100\n",
            "32/32 [==============================] - 8s 243ms/step - loss: 0.0033 - accuracy: 1.0000 - val_loss: 0.1077 - val_accuracy: 0.9960\n",
            "Epoch 57/100\n",
            "32/32 [==============================] - 8s 244ms/step - loss: 0.0026 - accuracy: 1.0000 - val_loss: 0.1215 - val_accuracy: 0.9921\n",
            "Epoch 58/100\n",
            "32/32 [==============================] - 8s 242ms/step - loss: 9.2890e-04 - accuracy: 1.0000 - val_loss: 0.1424 - val_accuracy: 0.9921\n",
            "Epoch 59/100\n",
            "32/32 [==============================] - 8s 244ms/step - loss: 0.0011 - accuracy: 1.0000 - val_loss: 0.1458 - val_accuracy: 0.9921\n",
            "Epoch 60/100\n",
            "32/32 [==============================] - 8s 244ms/step - loss: 7.2038e-04 - accuracy: 1.0000 - val_loss: 0.1358 - val_accuracy: 0.9960\n",
            "Epoch 61/100\n",
            "32/32 [==============================] - 8s 245ms/step - loss: 5.1619e-04 - accuracy: 1.0000 - val_loss: 0.1431 - val_accuracy: 0.9960\n",
            "Epoch 62/100\n",
            "32/32 [==============================] - 8s 242ms/step - loss: 6.4826e-04 - accuracy: 1.0000 - val_loss: 0.1461 - val_accuracy: 0.9960\n",
            "Epoch 63/100\n",
            "32/32 [==============================] - 8s 243ms/step - loss: 7.2335e-04 - accuracy: 1.0000 - val_loss: 0.1371 - val_accuracy: 0.9960\n",
            "Epoch 64/100\n",
            "32/32 [==============================] - 8s 241ms/step - loss: 2.7028e-04 - accuracy: 1.0000 - val_loss: 0.1422 - val_accuracy: 0.9960\n",
            "Epoch 65/100\n",
            "32/32 [==============================] - 8s 245ms/step - loss: 4.7567e-04 - accuracy: 1.0000 - val_loss: 0.1499 - val_accuracy: 0.9921\n",
            "Epoch 66/100\n",
            "32/32 [==============================] - 8s 243ms/step - loss: 4.7004e-04 - accuracy: 1.0000 - val_loss: 0.1603 - val_accuracy: 0.9921\n",
            "Epoch 67/100\n",
            "32/32 [==============================] - 8s 244ms/step - loss: 3.8029e-04 - accuracy: 1.0000 - val_loss: 0.1587 - val_accuracy: 0.9921\n",
            "Epoch 68/100\n",
            "32/32 [==============================] - 8s 244ms/step - loss: 3.3922e-04 - accuracy: 1.0000 - val_loss: 0.1551 - val_accuracy: 0.9960\n",
            "Epoch 69/100\n",
            "32/32 [==============================] - 8s 240ms/step - loss: 2.7467e-04 - accuracy: 1.0000 - val_loss: 0.1589 - val_accuracy: 0.9960\n",
            "Epoch 70/100\n",
            "32/32 [==============================] - 8s 242ms/step - loss: 2.2851e-04 - accuracy: 1.0000 - val_loss: 0.1633 - val_accuracy: 0.9921\n",
            "Epoch 71/100\n",
            "32/32 [==============================] - 8s 243ms/step - loss: 2.8904e-04 - accuracy: 1.0000 - val_loss: 0.1682 - val_accuracy: 0.9921\n",
            "Epoch 72/100\n",
            "32/32 [==============================] - 8s 244ms/step - loss: 1.7104e-04 - accuracy: 1.0000 - val_loss: 0.1735 - val_accuracy: 0.9921\n",
            "Epoch 73/100\n",
            "32/32 [==============================] - 8s 241ms/step - loss: 1.4318e-04 - accuracy: 1.0000 - val_loss: 0.1746 - val_accuracy: 0.9921\n",
            "Epoch 74/100\n",
            "32/32 [==============================] - 8s 241ms/step - loss: 2.5201e-04 - accuracy: 1.0000 - val_loss: 0.1731 - val_accuracy: 0.9921\n",
            "Epoch 75/100\n",
            "32/32 [==============================] - 8s 243ms/step - loss: 8.4442e-04 - accuracy: 1.0000 - val_loss: 0.2012 - val_accuracy: 0.9881\n",
            "Epoch 76/100\n",
            "32/32 [==============================] - 8s 243ms/step - loss: 0.0014 - accuracy: 1.0000 - val_loss: 0.1813 - val_accuracy: 0.9921\n",
            "Epoch 77/100\n",
            "32/32 [==============================] - 8s 242ms/step - loss: 3.8259e-04 - accuracy: 1.0000 - val_loss: 0.1825 - val_accuracy: 0.9921\n",
            "Epoch 78/100\n",
            "32/32 [==============================] - 8s 241ms/step - loss: 6.0425e-04 - accuracy: 1.0000 - val_loss: 0.1940 - val_accuracy: 0.9921\n",
            "Epoch 79/100\n",
            "32/32 [==============================] - 8s 243ms/step - loss: 0.0017 - accuracy: 0.9990 - val_loss: 0.2314 - val_accuracy: 0.9722\n",
            "Epoch 80/100\n",
            "32/32 [==============================] - 8s 244ms/step - loss: 0.0082 - accuracy: 0.9980 - val_loss: 0.1808 - val_accuracy: 0.9841\n",
            "Epoch 81/100\n",
            "32/32 [==============================] - 8s 244ms/step - loss: 0.0287 - accuracy: 0.9940 - val_loss: 583.5328 - val_accuracy: 0.2103\n",
            "Epoch 82/100\n",
            "32/32 [==============================] - 8s 245ms/step - loss: 0.0125 - accuracy: 0.9950 - val_loss: 22.9112 - val_accuracy: 0.2143\n",
            "Epoch 83/100\n",
            "32/32 [==============================] - 8s 243ms/step - loss: 0.0935 - accuracy: 0.9721 - val_loss: 0.6435 - val_accuracy: 0.9167\n",
            "Epoch 84/100\n",
            "32/32 [==============================] - 8s 242ms/step - loss: 0.1632 - accuracy: 0.9453 - val_loss: 0.5439 - val_accuracy: 0.8651\n",
            "Epoch 85/100\n",
            "32/32 [==============================] - 8s 243ms/step - loss: 0.1360 - accuracy: 0.9512 - val_loss: 0.7675 - val_accuracy: 0.8532\n",
            "Epoch 86/100\n",
            "32/32 [==============================] - 8s 245ms/step - loss: 0.2364 - accuracy: 0.9194 - val_loss: 16977.8809 - val_accuracy: 0.2103\n",
            "Epoch 87/100\n",
            "32/32 [==============================] - 8s 245ms/step - loss: 0.1538 - accuracy: 0.9393 - val_loss: 12113.5869 - val_accuracy: 0.2103\n",
            "Epoch 88/100\n",
            "32/32 [==============================] - 8s 243ms/step - loss: 0.0962 - accuracy: 0.9642 - val_loss: 2142.3750 - val_accuracy: 0.2103\n",
            "Epoch 89/100\n",
            "32/32 [==============================] - 8s 244ms/step - loss: 0.0505 - accuracy: 0.9851 - val_loss: 692.9522 - val_accuracy: 0.2103\n",
            "Epoch 90/100\n",
            "32/32 [==============================] - 8s 243ms/step - loss: 0.0341 - accuracy: 0.9891 - val_loss: 184.4843 - val_accuracy: 0.2103\n",
            "Epoch 91/100\n",
            "32/32 [==============================] - 8s 242ms/step - loss: 0.0283 - accuracy: 0.9910 - val_loss: 1.1351 - val_accuracy: 0.8532\n",
            "Epoch 92/100\n",
            "32/32 [==============================] - 8s 244ms/step - loss: 0.0074 - accuracy: 0.9990 - val_loss: 0.1642 - val_accuracy: 0.9881\n",
            "Epoch 93/100\n",
            "32/32 [==============================] - 8s 242ms/step - loss: 0.0040 - accuracy: 0.9990 - val_loss: 0.1471 - val_accuracy: 0.9841\n",
            "Epoch 94/100\n",
            "32/32 [==============================] - 8s 242ms/step - loss: 0.0033 - accuracy: 0.9990 - val_loss: 0.1382 - val_accuracy: 0.9921\n",
            "Epoch 95/100\n",
            "32/32 [==============================] - 8s 242ms/step - loss: 0.0024 - accuracy: 1.0000 - val_loss: 0.1540 - val_accuracy: 0.9960\n",
            "Epoch 96/100\n",
            "32/32 [==============================] - 8s 243ms/step - loss: 0.0018 - accuracy: 1.0000 - val_loss: 0.1653 - val_accuracy: 0.9960\n",
            "Epoch 97/100\n",
            "32/32 [==============================] - 8s 243ms/step - loss: 0.0015 - accuracy: 1.0000 - val_loss: 0.1778 - val_accuracy: 0.9921\n",
            "Epoch 98/100\n",
            "32/32 [==============================] - 8s 241ms/step - loss: 0.0010 - accuracy: 1.0000 - val_loss: 0.1836 - val_accuracy: 0.9921\n",
            "Epoch 99/100\n",
            "32/32 [==============================] - 8s 243ms/step - loss: 7.7138e-04 - accuracy: 1.0000 - val_loss: 0.1725 - val_accuracy: 0.9960\n",
            "Epoch 100/100\n",
            "32/32 [==============================] - 8s 241ms/step - loss: 7.1451e-04 - accuracy: 1.0000 - val_loss: 0.1828 - val_accuracy: 0.9960\n"
          ]
        }
      ]
    },
    {
      "cell_type": "code",
      "source": [
        "# Evaluate the model on the test set\n",
        "loss, accuracy = model.evaluate(X_test, y_test)\n",
        "print('Test loss:', loss)\n",
        "print('Test accuracy:', accuracy)"
      ],
      "metadata": {
        "id": "dxi_8J33V8ee",
        "colab": {
          "base_uri": "https://localhost:8080/"
        },
        "outputId": "3eee00af-2da7-4498-b714-dfe9ad01366b"
      },
      "execution_count": null,
      "outputs": [
        {
          "output_type": "stream",
          "name": "stdout",
          "text": [
            "8/8 [==============================] - 1s 73ms/step - loss: 0.1828 - accuracy: 0.9960\n",
            "Test loss: 0.182757169008255\n",
            "Test accuracy: 0.9960317611694336\n"
          ]
        }
      ]
    },
    {
      "cell_type": "code",
      "source": [
        "# Evaluate the model on the test set\n",
        "loss, accuracy = model.evaluate(X_test, y_test)\n",
        "print('Test loss:', loss)\n",
        "print('Test accuracy:', accuracy)"
      ],
      "metadata": {
        "colab": {
          "base_uri": "https://localhost:8080/"
        },
        "id": "orOX32PFjBKr",
        "outputId": "600b7697-2077-48a1-d14d-8bb31a59f0a9"
      },
      "execution_count": null,
      "outputs": [
        {
          "output_type": "stream",
          "name": "stdout",
          "text": [
            "8/8 [==============================] - 1s 74ms/step - loss: 0.1828 - accuracy: 0.9960\n",
            "Test loss: 0.182757169008255\n",
            "Test accuracy: 0.9960317611694336\n"
          ]
        }
      ]
    },
    {
      "cell_type": "code",
      "source": [
        "import matplotlib.pyplot as plt\n",
        "import seaborn as sns\n",
        "sns.set()\n",
        "\n",
        "acc = history_model.history['accuracy']\n",
        "val_acc = history_model.history['val_accuracy']\n",
        "loss = history_model.history['loss']\n",
        "val_loss = history_model.history['val_loss']\n",
        "epochs = range(1, len(loss) + 1)\n",
        "\n",
        "#accuracy plot\n",
        "plt.plot(epochs, acc, color='green', label='Training Accuracy')\n",
        "plt.plot(epochs, val_acc, color='blue', label='Validation Accuracy')\n",
        "plt.title('Training and Validation Accuracy')\n",
        "plt.ylabel('Accuracy')\n",
        "plt.xlabel('Epoch')\n",
        "plt.legend()\n",
        "\n",
        "plt.figure()\n",
        "#loss plot\n",
        "plt.plot(epochs, loss, color='pink', label='Training Loss')\n",
        "plt.plot(epochs, val_loss, color='red', label='Validation Loss')\n",
        "plt.title('Training and Validation Loss')\n",
        "plt.xlabel('Epoch')\n",
        "plt.ylabel('Loss')\n",
        "plt.legend()\n",
        "\n",
        "plt.show()\n"
      ],
      "metadata": {
        "colab": {
          "base_uri": "https://localhost:8080/",
          "height": 943
        },
        "id": "Vh_wFO9Xau0k",
        "outputId": "ae0476d8-df9b-4d1e-911a-e4e28efd5e2b"
      },
      "execution_count": null,
      "outputs": [
        {
          "output_type": "display_data",
          "data": {
            "text/plain": [
              "<Figure size 640x480 with 1 Axes>"
            ],
            "image/png": "[encoded data removed]"
          },
          "metadata": {}
        },
        {
          "output_type": "display_data",
          "data": {
            "text/plain": [
              "<Figure size 640x480 with 1 Axes>"
            ],
            "image/png": "[encoded data removed]"
          },
          "metadata": {}
        }
      ]
    },
    {
      "cell_type": "code",
      "source": [
        "import matplotlib.pyplot as plt\n",
        "from sklearn.datasets import make_classification\n",
        "#from sklearn.metrics import plot_confusion_matrix\n",
        "from sklearn.model_selection import train_test_split\n",
        "from sklearn.metrics import classification_report, confusion_matrix, accuracy_score"
      ],
      "metadata": {
        "id": "U2dX0U98au3T"
      },
      "execution_count": null,
      "outputs": []
    },
    {
      "cell_type": "code",
      "source": [
        "preds_probs = model.predict(X_test, verbose=1)"
      ],
      "metadata": {
        "colab": {
          "base_uri": "https://localhost:8080/"
        },
        "id": "DrX7gr1Qau5Y",
        "outputId": "b8d0463d-8834-4735-e9b2-6e99c154f8e6"
      },
      "execution_count": null,
      "outputs": [
        {
          "output_type": "stream",
          "name": "stdout",
          "text": [
            "8/8 [==============================] - 1s 68ms/step\n"
          ]
        }
      ]
    },
    {
      "cell_type": "code",
      "source": [
        "preds_probs[:10]"
      ],
      "metadata": {
        "colab": {
          "base_uri": "https://localhost:8080/"
        },
        "id": "g5USLMhla0Vd",
        "outputId": "7ac88468-a252-49c0-c379-616000658b91"
      },
      "execution_count": null,
      "outputs": [
        {
          "output_type": "execute_result",
          "data": {
            "text/plain": [
              "array([[3.39498457e-10, 1.24212178e-07, 1.80212173e-05, 9.99981880e-01,\n",
              "        9.91159421e-09, 9.11465933e-18, 1.32369989e-15],\n",
              "       [9.99990940e-01, 2.89334844e-06, 4.68464577e-07, 1.15432401e-08,\n",
              "        8.59233032e-11, 5.75858985e-06, 1.95406816e-10],\n",
              "       [9.99991059e-01, 7.87261433e-06, 4.07241686e-07, 1.05877106e-07,\n",
              "        5.57825834e-11, 5.50819891e-07, 1.95485399e-11],\n",
              "       [9.99480903e-01, 3.94111295e-04, 5.50532332e-06, 1.19338802e-04,\n",
              "        2.21498353e-09, 1.05985087e-07, 2.73112262e-11],\n",
              "       [1.09033676e-11, 1.12353172e-20, 6.65457555e-05, 4.88178473e-17,\n",
              "        3.78906281e-11, 5.61528509e-07, 9.99932885e-01],\n",
              "       [2.97277370e-06, 1.61598909e-05, 1.58565825e-07, 9.99980807e-01,\n",
              "        1.63300415e-11, 1.42417225e-17, 1.45574410e-18],\n",
              "       [3.05701436e-11, 4.90373047e-25, 2.06165282e-06, 7.26560735e-22,\n",
              "        8.45878071e-16, 6.00707949e-07, 9.99997377e-01],\n",
              "       [1.02176700e-09, 9.58099022e-08, 3.42867861e-06, 9.99996424e-01,\n",
              "        3.03744363e-10, 6.53881673e-19, 2.86405265e-17],\n",
              "       [1.13212836e-15, 2.40358638e-27, 3.35782090e-07, 1.06163489e-23,\n",
              "        8.62843580e-15, 2.55481556e-08, 9.99999642e-01],\n",
              "       [1.07227385e-13, 1.61350484e-19, 3.91521207e-05, 1.74155215e-16,\n",
              "        8.25238011e-09, 8.53572089e-07, 9.99960065e-01]], dtype=float32)"
            ]
          },
          "metadata": {},
          "execution_count": 10
        }
      ]
    },
    {
      "cell_type": "code",
      "source": [
        "# We get one prediction probability per class (in our case there's 101 prediction probabilities)\n",
        "print(f\"Number of prediction probabilities for sample 0: {len(preds_probs[0])}\")\n",
        "print(f\"What prediction probability sample 0 looks like:\\n {preds_probs[0]}\")\n",
        "print(f\"The class with the highest predicted probability by the model for sample 0: {preds_probs[0].argmax()}\")"
      ],
      "metadata": {
        "colab": {
          "base_uri": "https://localhost:8080/"
        },
        "id": "p0Cma7eLa0YB",
        "outputId": "84a397ed-f78e-4cc9-92cf-7c14aef40598"
      },
      "execution_count": null,
      "outputs": [
        {
          "output_type": "stream",
          "name": "stdout",
          "text": [
            "Number of prediction probabilities for sample 0: 7\n",
            "What prediction probability sample 0 looks like:\n",
            " [3.3949846e-10 1.2421218e-07 1.8021217e-05 9.9998188e-01 9.9115942e-09\n",
            " 9.1146593e-18 1.3236999e-15]\n",
            "The class with the highest predicted probability by the model for sample 0: 3\n"
          ]
        }
      ]
    },
    {
      "cell_type": "code",
      "source": [
        "len(preds_probs)"
      ],
      "metadata": {
        "colab": {
          "base_uri": "https://localhost:8080/"
        },
        "id": "n1ElXHoBa0eA",
        "outputId": "3999a3ac-1e90-4fb6-d776-dc1995aada5a"
      },
      "execution_count": null,
      "outputs": [
        {
          "output_type": "execute_result",
          "data": {
            "text/plain": [
              "252"
            ]
          },
          "metadata": {},
          "execution_count": 12
        }
      ]
    },
    {
      "cell_type": "code",
      "source": [
        "preds_probs.shape"
      ],
      "metadata": {
        "colab": {
          "base_uri": "https://localhost:8080/"
        },
        "id": "ywV7wIRya0gC",
        "outputId": "eda9b837-ff42-418d-dae9-3b886523eed5"
      },
      "execution_count": null,
      "outputs": [
        {
          "output_type": "execute_result",
          "data": {
            "text/plain": [
              "(252, 7)"
            ]
          },
          "metadata": {},
          "execution_count": 13
        }
      ]
    },
    {
      "cell_type": "code",
      "source": [
        "# What does the first prediction probability array look like?\n",
        "preds_probs[0], len(preds_probs[0]), sum(preds_probs[0])"
      ],
      "metadata": {
        "colab": {
          "base_uri": "https://localhost:8080/"
        },
        "id": "tareERG1a6Gi",
        "outputId": "45f84d7c-55be-407f-a839-573403e22cb5"
      },
      "execution_count": null,
      "outputs": [
        {
          "output_type": "execute_result",
          "data": {
            "text/plain": [
              "(array([3.3949846e-10, 1.2421218e-07, 1.8021217e-05, 9.9998188e-01,\n",
              "        9.9115942e-09, 9.1146593e-18, 1.3236999e-15], dtype=float32),\n",
              " 7,\n",
              " 1.0000000358685897)"
            ]
          },
          "metadata": {},
          "execution_count": 15
        }
      ]
    },
    {
      "cell_type": "code",
      "source": [
        "# Get the pred classes of each label\n",
        "pred_classes = preds_probs.argmax(axis=1)"
      ],
      "metadata": {
        "id": "5e4LJ7QCa6JH"
      },
      "execution_count": null,
      "outputs": []
    },
    {
      "cell_type": "code",
      "source": [
        "# How to they look?\n",
        "pred_classes[:7]"
      ],
      "metadata": {
        "colab": {
          "base_uri": "https://localhost:8080/"
        },
        "id": "Edbp_FyWa-Xt",
        "outputId": "a2a280d3-e911-49a2-e280-9aa7eb14844a"
      },
      "execution_count": null,
      "outputs": [
        {
          "output_type": "execute_result",
          "data": {
            "text/plain": [
              "array([3, 0, 0, 0, 6, 3, 6])"
            ]
          },
          "metadata": {},
          "execution_count": 16
        }
      ]
    },
    {
      "cell_type": "code",
      "source": [
        "# How many pred classes do we have?\n",
        "len(pred_classes)"
      ],
      "metadata": {
        "colab": {
          "base_uri": "https://localhost:8080/"
        },
        "id": "ncrU1-JTa-aJ",
        "outputId": "b5be6466-1496-44d2-9784-a85616cd615b"
      },
      "execution_count": null,
      "outputs": [
        {
          "output_type": "execute_result",
          "data": {
            "text/plain": [
              "252"
            ]
          },
          "metadata": {},
          "execution_count": 17
        }
      ]
    },
    {
      "cell_type": "code",
      "source": [
        "#import seaborn as sns\n",
        "import numpy as np\n",
        "from sklearn.metrics import classification_report\n",
        "from sklearn import metrics"
      ],
      "metadata": {
        "id": "W4UXAj0jbBqu"
      },
      "execution_count": null,
      "outputs": []
    },
    {
      "cell_type": "code",
      "source": [
        "y_test.shape, preds_probs.shape"
      ],
      "metadata": {
        "colab": {
          "base_uri": "https://localhost:8080/"
        },
        "id": "XCsqDXvwbBtM",
        "outputId": "acf6d325-1177-4f9c-c96b-97534ba204da"
      },
      "execution_count": null,
      "outputs": [
        {
          "output_type": "execute_result",
          "data": {
            "text/plain": [
              "((252,), (252, 7))"
            ]
          },
          "metadata": {},
          "execution_count": 19
        }
      ]
    },
    {
      "cell_type": "code",
      "source": [
        "y_test.shape"
      ],
      "metadata": {
        "colab": {
          "base_uri": "https://localhost:8080/"
        },
        "id": "7s9QY_RYbEXk",
        "outputId": "ff57c3b9-74ee-407e-da71-8e815d36b321"
      },
      "execution_count": null,
      "outputs": [
        {
          "output_type": "execute_result",
          "data": {
            "text/plain": [
              "(252,)"
            ]
          },
          "metadata": {},
          "execution_count": 20
        }
      ]
    },
    {
      "cell_type": "code",
      "source": [
        "preds_probs.shape"
      ],
      "metadata": {
        "colab": {
          "base_uri": "https://localhost:8080/"
        },
        "id": "rPqn4glYbEaE",
        "outputId": "de481815-47ab-4e07-965d-2e78fc68ace3"
      },
      "execution_count": null,
      "outputs": [
        {
          "output_type": "execute_result",
          "data": {
            "text/plain": [
              "(252, 7)"
            ]
          },
          "metadata": {},
          "execution_count": 21
        }
      ]
    },
    {
      "cell_type": "code",
      "source": [
        "preds_probs = np.argmax(preds_probs, axis=1)\n",
        "preds_probs.shape"
      ],
      "metadata": {
        "colab": {
          "base_uri": "https://localhost:8080/"
        },
        "id": "uKEoVaABbEcc",
        "outputId": "eceb5f0c-df60-41d8-d000-f2cc62b7f3cf"
      },
      "execution_count": null,
      "outputs": [
        {
          "output_type": "execute_result",
          "data": {
            "text/plain": [
              "(252,)"
            ]
          },
          "metadata": {},
          "execution_count": 22
        }
      ]
    },
    {
      "cell_type": "code",
      "source": [
        "print(metrics.accuracy_score(y_test, preds_probs))"
      ],
      "metadata": {
        "colab": {
          "base_uri": "https://localhost:8080/"
        },
        "id": "tSkUUxZ5bEeX",
        "outputId": "2fc4582a-35d0-4d8e-d608-093ab9652b49"
      },
      "execution_count": null,
      "outputs": [
        {
          "output_type": "stream",
          "name": "stdout",
          "text": [
            "0.996031746031746\n"
          ]
        }
      ]
    },
    {
      "cell_type": "code",
      "source": [
        "print(classification_report(y_test, preds_probs))"
      ],
      "metadata": {
        "colab": {
          "base_uri": "https://localhost:8080/"
        },
        "id": "JO8_uydibKxT",
        "outputId": "d0e6bf9a-2e8f-442b-a5be-cf492e2e05bd"
      },
      "execution_count": null,
      "outputs": [
        {
          "output_type": "stream",
          "name": "stdout",
          "text": [
            "              precision    recall  f1-score   support\n",
            "\n",
            "           0       1.00      0.96      0.98        27\n",
            "           1       1.00      1.00      1.00        43\n",
            "           2       1.00      1.00      1.00        14\n",
            "           3       1.00      1.00      1.00        44\n",
            "           4       0.98      1.00      0.99        53\n",
            "           5       1.00      1.00      1.00        23\n",
            "           6       1.00      1.00      1.00        48\n",
            "\n",
            "    accuracy                           1.00       252\n",
            "   macro avg       1.00      0.99      1.00       252\n",
            "weighted avg       1.00      1.00      1.00       252\n",
            "\n"
          ]
        }
      ]
    },
    {
      "cell_type": "code",
      "source": [
        "from sklearn.metrics import confusion_matrix\n",
        "import matplotlib.pyplot as plt\n",
        "\n",
        "# Defining function for confusion matrix plot\n",
        "def plot_confusion_matrix(y_true, y_pred, classes,\n",
        "                          normalize=False,\n",
        "                          title=None,\n",
        "                          cmap=plt.cm.Blues):\n",
        "\n",
        "    if not title:\n",
        "        if normalize:\n",
        "            title = 'Normalized confusion matrix'\n",
        "        else:\n",
        "            title = 'Confusion matrix, without normalization'\n",
        "\n",
        "    # Compute confusion matrix\n",
        "    cm = confusion_matrix(y_true, y_pred)\n",
        "    if normalize:\n",
        "        cm = cm.astype('int') / cm.sum(axis=1)[:, np.newaxis]\n",
        "        print(\"Normalized confusion matrix\")\n",
        "    else:\n",
        "        print('Confusion matrix, without normalization')\n",
        "\n",
        "    fig, ax = plt.subplots(figsize=(7, 7))\n",
        "    im = ax.imshow(cm, interpolation='nearest', cmap=cmap)\n",
        "    ax.figure.colorbar(im, ax=ax)\n",
        "    ax.set(xticks=np.arange(cm.shape[1]),\n",
        "           yticks=np.arange(cm.shape[0]),\n",
        "           xticklabels=classes, yticklabels=classes,\n",
        "           title=title,\n",
        "           ylabel='True label',\n",
        "           xlabel='Predicted label')\n",
        "\n",
        "    plt.setp(ax.get_xticklabels(), rotation=45, ha=\"right\",\n",
        "             rotation_mode=\"anchor\")\n",
        "\n",
        "    fmt = '.2f' if normalize else 'd'\n",
        "    thresh = cm.max() / 2.\n",
        "    for i in range(cm.shape[0]):\n",
        "        for j in range(cm.shape[1]):\n",
        "            ax.text(j, i, format(cm[i, j], fmt),\n",
        "                    ha=\"center\", va=\"center\",\n",
        "                    color=\"white\" if cm[i, j] > thresh else \"black\")\n",
        "    plt.grid(False)  # Remove the grid lines\n",
        "    fig.tight_layout()\n",
        "    return ax\n",
        "\n",
        "np.set_printoptions(precision=2)\n",
        "\n"
      ],
      "metadata": {
        "id": "9t5oXyvXbK0J"
      },
      "execution_count": null,
      "outputs": []
    },
    {
      "cell_type": "code",
      "source": [
        "#Plotting the confusion matrix\n",
        "confusion_mtx = confusion_matrix(y_test, preds_probs)\n",
        "class_names=['surprise', 'disgust', 'fear', 'happy', 'sad', 'neutral', 'angry']\n",
        "# Plotting non-normalized confusion matrix\n",
        "plot_confusion_matrix(y_test, preds_probs, classes = class_names, title='Confusion matrix, without normalization')"
      ],
      "metadata": {
        "colab": {
          "base_uri": "https://localhost:8080/",
          "height": 706
        },
        "id": "q5Ns8fYbbK29",
        "outputId": "593a9db1-cf6f-4352-e4ad-0f95937c57ed"
      },
      "execution_count": null,
      "outputs": [
        {
          "output_type": "stream",
          "name": "stdout",
          "text": [
            "Confusion matrix, without normalization\n"
          ]
        },
        {
          "output_type": "execute_result",
          "data": {
            "text/plain": [
              "<Axes: title={'center': 'Confusion matrix, without normalization'}, xlabel='Predicted label', ylabel='True label'>"
            ]
          },
          "metadata": {},
          "execution_count": 26
        },
        {
          "output_type": "display_data",
          "data": {
            "text/plain": [
              "<Figure size 700x700 with 2 Axes>"
            ],
            "image/png": "[encoded data removed]"
          },
          "metadata": {}
        }
      ]
    },
    {
      "cell_type": "code",
      "source": [
        "#Plotting normalized confusion matrix\n",
        "plot_confusion_matrix(y_test, preds_probs, classes = class_names, normalize = True, title = 'Normalized confusion matrix')"
      ],
      "metadata": {
        "colab": {
          "base_uri": "https://localhost:8080/",
          "height": 706
        },
        "id": "pefmNlK7bK5X",
        "outputId": "2f531dce-40ab-4c1d-8b2f-9470fca4e458"
      },
      "execution_count": null,
      "outputs": [
        {
          "output_type": "stream",
          "name": "stdout",
          "text": [
            "Normalized confusion matrix\n"
          ]
        },
        {
          "output_type": "execute_result",
          "data": {
            "text/plain": [
              "<Axes: title={'center': 'Normalized confusion matrix'}, xlabel='Predicted label', ylabel='True label'>"
            ]
          },
          "metadata": {},
          "execution_count": 27
        },
        {
          "output_type": "display_data",
          "data": {
            "text/plain": [
              "<Figure size 700x700 with 2 Axes>"
            ],
            "image/png": "[encoded data removed]"
          },
          "metadata": {}
        }
      ]
    },
    {
      "cell_type": "markdown",
      "source": [
        "# Teknik Ketiga"
      ],
      "metadata": {
        "id": "ip3W-EqSiBgA"
      }
    },
    {
      "cell_type": "code",
      "source": [
        "from google.colab import drive\n",
        "drive.mount('/content/drive/')"
      ],
      "metadata": {
        "colab": {
          "base_uri": "https://localhost:8080/"
        },
        "id": "2YKkeFDsiIy8",
        "outputId": "4469db9c-b0d6-4cbe-9e63-8af89b66eea2"
      },
      "execution_count": null,
      "outputs": [
        {
          "output_type": "stream",
          "name": "stdout",
          "text": [
            "Drive already mounted at /content/drive/; to attempt to forcibly remount, call drive.mount(\"/content/drive/\", force_remount=True).\n"
          ]
        }
      ]
    },
    {
      "cell_type": "code",
      "source": [
        "# Import libraries# Impor\n",
        "import os,cv2\n",
        "import numpy as np\n",
        "import matplotlib.pyplot as plt\n",
        "import matplotlib.image as mpimg\n",
        "from pylab import rcParams\n",
        "rcParams['figure.figsize'] = 20, 10\n",
        "\n",
        "from sklearn.utils import shuffle\n",
        "from sklearn.model_selection import train_test_split\n",
        "\n",
        "import keras\n",
        "from keras.utils import np_utils\n",
        "from keras import backend as K\n",
        "from keras.models import Sequential\n",
        "from keras.layers.core import Dense, Dropout, Activation, Flatten\n",
        "from keras.layers.convolutional import Convolution2D, MaxPooling2D\n",
        "from keras.optimizers import SGD, Adam\n",
        "from keras.preprocessing.image import ImageDataGenerator"
      ],
      "metadata": {
        "id": "9pXUSD4jiI1d"
      },
      "execution_count": null,
      "outputs": []
    },
    {
      "cell_type": "code",
      "source": [
        "#Define Datapath\n",
        "data_path = '/content/drive/MyDrive/Depthwise Separable Convolution/CK_7_KELAS_new'\n",
        "data_dir_list = os.listdir(data_path)\n",
        "\n",
        "img_rows=256\n",
        "img_cols=256\n",
        "num_channel=1\n",
        "\n",
        "num_epoch=10\n",
        "\n",
        "img_data_list=[]\n",
        "\n",
        "\n",
        "for dataset in data_dir_list:\n",
        "    img_list=os.listdir(data_path+'/'+ dataset)\n",
        "    print ('Loaded the images of dataset-'+'{}\\n'.format(dataset))\n",
        "    for img in img_list:\n",
        "        input_img=cv2.imread(data_path + '/'+ dataset + '/'+ img )\n",
        "        #input_img=cv2.cvtColor(input_img, cv2.COLOR_BGR2GRAY)\n",
        "        input_img_resize=cv2.resize(input_img,(224,224))\n",
        "        img_data_list.append(input_img_resize)\n",
        "\n",
        "img_data = np.array(img_data_list)\n",
        "img_data = img_data.astype('float32')\n",
        "img_data = img_data/255\n",
        "img_data.shape"
      ],
      "metadata": {
        "colab": {
          "base_uri": "https://localhost:8080/"
        },
        "id": "fKbvPiFait7g",
        "outputId": "dee231f8-26c6-45ef-bfad-a32df95887f9"
      },
      "execution_count": null,
      "outputs": [
        {
          "output_type": "stream",
          "name": "stdout",
          "text": [
            "Loaded the images of dataset-anger\n",
            "\n",
            "Loaded the images of dataset-fear\n",
            "\n",
            "Loaded the images of dataset-happy\n",
            "\n",
            "Loaded the images of dataset-disgust\n",
            "\n",
            "Loaded the images of dataset-neutral\n",
            "\n",
            "Loaded the images of dataset-sadness\n",
            "\n",
            "Loaded the images of dataset-surprise\n",
            "\n"
          ]
        },
        {
          "output_type": "execute_result",
          "data": {
            "text/plain": [
              "(1257, 224, 224, 3)"
            ]
          },
          "metadata": {},
          "execution_count": 3
        }
      ]
    },
    {
      "cell_type": "code",
      "source": [
        "num_classes = 7\n",
        "\n",
        "num_of_samples = img_data.shape[0]\n",
        "labels = np.ones((num_of_samples,),dtype='int64')\n",
        "\n",
        "labels[0:135]=0 # anger\n",
        "labels[136:210]=1 # fear\n",
        "labels[211:417]=2 # happy\n",
        "labels[418:594]=3 # disgust\n",
        "labels[595:921]=4 # neutral\n",
        "labels[922:1005]=5 # sadness\n",
        "labels[1006:]=6 # surprise\n",
        "\n",
        "names = ['anger','fear','happy','disgust','neutral','sadness','surprise']\n",
        "\n",
        "def getLabel(id):\n",
        "    return ['anger','fear','happy','disgust','neutral','sadness','surprise'][id]"
      ],
      "metadata": {
        "id": "bxtToENZit6D"
      },
      "execution_count": null,
      "outputs": []
    },
    {
      "cell_type": "code",
      "source": [
        "# convert class labels to on-hot encoding# conve\n",
        "Y = np_utils.to_categorical(labels, num_classes)\n",
        "\n",
        "#Shuffle the dataset\n",
        "x,y = shuffle(img_data,Y, random_state=2)\n",
        "# Split the dataset\n",
        "X_train, X_test, y_train, y_test = train_test_split(x, y, test_size=0.15, random_state=2)"
      ],
      "metadata": {
        "id": "Loq63xAait3v"
      },
      "execution_count": null,
      "outputs": []
    },
    {
      "cell_type": "code",
      "source": [
        "# Defining the model\n",
        "input_shape=img_data[0].shape\n",
        "\n",
        "model = Sequential()"
      ],
      "metadata": {
        "id": "9bgfkn-8it1z"
      },
      "execution_count": null,
      "outputs": []
    },
    {
      "cell_type": "code",
      "source": [
        "import tensorflow as tf\n",
        "from keras.models import Model\n",
        "from keras.layers import Input, Conv2D, MaxPooling2D, Dense, Flatten, SeparableConv2D"
      ],
      "metadata": {
        "id": "nX-YFan-itz2"
      },
      "execution_count": null,
      "outputs": []
    },
    {
      "cell_type": "code",
      "source": [
        "import tensorflow as tf\n",
        "\n",
        "def depthwise_separable_convolution(inputs, filters, kernel_size, strides):\n",
        "    # Depthwise Convolution\n",
        "    depthwise = tf.keras.layers.DepthwiseConv2D(kernel_size=kernel_size, strides=strides, padding='same')(inputs)\n",
        "    depthwise = tf.keras.layers.BatchNormalization()(depthwise)\n",
        "    depthwise = tf.keras.layers.ReLU()(depthwise)\n",
        "\n",
        "    # Pointwise Convolution\n",
        "    pointwise = tf.keras.layers.Conv2D(filters=filters, kernel_size=1, strides=1, padding='same')(depthwise)\n",
        "    pointwise = tf.keras.layers.BatchNormalization()(pointwise)\n",
        "    pointwise = tf.keras.layers.ReLU()(pointwise)\n",
        "\n",
        "    return pointwise\n",
        "\n",
        "def facial_expression_model():\n",
        "    inputs = tf.keras.Input(shape=(224, 224, 3))\n",
        "\n",
        "    # Convolutional Layers\n",
        "    x = depthwise_separable_convolution(inputs, filters=64, kernel_size=3, strides=1)\n",
        "    x = tf.keras.layers.MaxPooling2D(pool_size=2, strides=2)(x)\n",
        "    x = depthwise_separable_convolution(x, filters=128, kernel_size=3, strides=1)\n",
        "    x = tf.keras.layers.MaxPooling2D(pool_size=2, strides=2)(x)\n",
        "    x = depthwise_separable_convolution(x, filters=256, kernel_size=3, strides=1)\n",
        "    x = tf.keras.layers.MaxPooling2D(pool_size=2, strides=2)(x)\n",
        "    x = depthwise_separable_convolution(x, filters=512, kernel_size=3, strides=1)\n",
        "    x = tf.keras.layers.MaxPooling2D(pool_size=2, strides=2)(x)\n",
        "\n",
        "    # Global Average Pooling\n",
        "    x = tf.keras.layers.GlobalAveragePooling2D()(x)\n",
        "\n",
        "    # Fully Connected Layers\n",
        "    x = tf.keras.layers.Dense(units=256, activation='relu')(x)\n",
        "    x = tf.keras.layers.Dropout(0.5)(x)\n",
        "    x = tf.keras.layers.Dense(units=128, activation='relu')(x)\n",
        "    x = tf.keras.layers.Dropout(0.5)(x)\n",
        "    x = tf.keras.layers.Dense(units=7, activation='softmax')(x)  # 7 classes for facial expressions\n",
        "\n",
        "    model = tf.keras.Model(inputs=inputs, outputs=x)\n",
        "\n",
        "    return model\n",
        "\n",
        "# Create the model\n",
        "model = facial_expression_model()\n",
        "\n",
        "# Print model summary\n",
        "model.summary()\n"
      ],
      "metadata": {
        "id": "iZftfWiuitx6"
      },
      "execution_count": null,
      "outputs": []
    },
    {
      "cell_type": "code",
      "source": [
        "# Compile the model\n",
        "model.compile(optimizer='adam',\n",
        "              loss=tf.keras.losses.CategoricalCrossentropy(),\n",
        "              metrics=['accuracy'])"
      ],
      "metadata": {
        "id": "zZ45ed1nittj"
      },
      "execution_count": null,
      "outputs": []
    },
    {
      "cell_type": "code",
      "source": [
        "# checkpoints\n",
        "from tensorflow.keras.callbacks import ModelCheckpoint\n",
        "weightpath = \"model\"\n",
        "checkpoints = ModelCheckpoint(weightpath, monitor='val_acc', verbose=1, save_best_only=True, save_weights_only=True, mode='max')\n",
        "callback_list = [checkpoints]"
      ],
      "metadata": {
        "id": "Tu7pQPFLitrS"
      },
      "execution_count": null,
      "outputs": []
    },
    {
      "cell_type": "code",
      "source": [
        "from tensorflow.keras.callbacks import TensorBoard\n",
        "# TensorBoard Callbacks\n",
        "callbacks = TensorBoard(log_dir='./Graph')"
      ],
      "metadata": {
        "id": "SpJRZo0yito0"
      },
      "execution_count": null,
      "outputs": []
    },
    {
      "cell_type": "code",
      "source": [
        "class myCallback(tf.keras.callbacks.Callback):\n",
        "  def on_epoch_end(self, epoch, logs={}):\n",
        "    if(logs.get('val_accuracy') > 0.98):\n",
        "      print(\"\\nAkurasi telah mencapai > 98%!\")\n",
        "      self.model.stop_training = True\n",
        "callbacks = myCallback()"
      ],
      "metadata": {
        "id": "BNXcTlRynh2p"
      },
      "execution_count": null,
      "outputs": []
    },
    {
      "cell_type": "code",
      "source": [
        "def print_time_taken(start_time, end_time):\n",
        "    secs_elapsed = end_time - start_time\n",
        "\n",
        "    SECS_PER_MIN = 60\n",
        "    SECS_PER_HR  = 60 * SECS_PER_MIN\n",
        "\n",
        "    hrs_elapsed, secs_elapsed = divmod(secs_elapsed, SECS_PER_HR)\n",
        "    mins_elapsed, secs_elapsed = divmod(secs_elapsed, SECS_PER_MIN)\n",
        "\n",
        "    if hrs_elapsed > 0:\n",
        "        print('Time taken: %d hrs %d mins %d secs' % (hrs_elapsed, mins_elapsed, secs_elapsed))\n",
        "    elif mins_elapsed > 0:\n",
        "        print('Time taken: %d mins %d secs' % (mins_elapsed, secs_elapsed))\n",
        "    elif secs_elapsed > 1:\n",
        "        print('Time taken: %d secs' % (secs_elapsed))\n",
        "    else:\n",
        "        print('Time taken - less than 1 sec')\n"
      ],
      "metadata": {
        "id": "gwwhm66vnh4t"
      },
      "execution_count": null,
      "outputs": []
    },
    {
      "cell_type": "code",
      "source": [
        "# train\n",
        "import sys, time\n",
        "start_time = time.time()\n",
        "\n",
        "hist = model.fit(X_train,\n",
        "                 y_train,\n",
        "                 batch_size=32,\n",
        "                 epochs=10,\n",
        "                 verbose=1,\n",
        "                 validation_data=(X_test, y_test),\n",
        "                 callbacks=[callbacks])\n",
        "\n",
        "\n",
        "end_time = time.time()\n",
        "print_time_taken(start_time, end_time)"
      ],
      "metadata": {
        "colab": {
          "base_uri": "https://localhost:8080/"
        },
        "id": "bfc6yHJwnjdr",
        "outputId": "82e0742e-78b0-4974-9b8b-df88ada04e56"
      },
      "execution_count": null,
      "outputs": [
        {
          "output_type": "stream",
          "name": "stdout",
          "text": [
            "Epoch 1/10\n",
            "34/34 [==============================] - 18s 209ms/step - loss: 1.5916 - accuracy: 0.3914 - val_loss: 1.9614 - val_accuracy: 0.1693\n",
            "Epoch 2/10\n",
            "34/34 [==============================] - 5s 152ms/step - loss: 1.3710 - accuracy: 0.4588 - val_loss: 1.9840 - val_accuracy: 0.1693\n",
            "Epoch 3/10\n",
            "34/34 [==============================] - 5s 155ms/step - loss: 1.3224 - accuracy: 0.4476 - val_loss: 2.0224 - val_accuracy: 0.1693\n",
            "Epoch 4/10\n",
            "34/34 [==============================] - 5s 153ms/step - loss: 1.2878 - accuracy: 0.4934 - val_loss: 2.0482 - val_accuracy: 0.1693\n",
            "Epoch 5/10\n",
            "34/34 [==============================] - 5s 158ms/step - loss: 1.2789 - accuracy: 0.5075 - val_loss: 2.0569 - val_accuracy: 0.1799\n",
            "Epoch 6/10\n",
            "34/34 [==============================] - 6s 165ms/step - loss: 1.2065 - accuracy: 0.5159 - val_loss: 2.1001 - val_accuracy: 0.1164\n",
            "Epoch 7/10\n",
            "34/34 [==============================] - 5s 153ms/step - loss: 1.1128 - accuracy: 0.5627 - val_loss: 2.2038 - val_accuracy: 0.1799\n",
            "Epoch 8/10\n",
            "34/34 [==============================] - 5s 156ms/step - loss: 1.0712 - accuracy: 0.5880 - val_loss: 2.4259 - val_accuracy: 0.1799\n",
            "Epoch 9/10\n",
            "34/34 [==============================] - 5s 157ms/step - loss: 0.9781 - accuracy: 0.6161 - val_loss: 2.6524 - val_accuracy: 0.1799\n",
            "Epoch 10/10\n",
            "34/34 [==============================] - 5s 155ms/step - loss: 0.9403 - accuracy: 0.6395 - val_loss: 2.8359 - val_accuracy: 0.1799\n",
            "Time taken: 1 mins 26 secs\n"
          ]
        }
      ]
    },
    {
      "cell_type": "code",
      "source": [
        "# visualizing losses and accuracy\n",
        "%matplotlib inline\n",
        "\n",
        "import matplotlib.pyplot as plt\n",
        "import seaborn as sns\n",
        "sns.set()\n",
        "\n",
        "acc = hist.history['accuracy']\n",
        "val_acc = hist.history['val_accuracy']\n",
        "loss = hist.history['loss']\n",
        "val_loss = hist.history['val_loss']\n",
        "epochs = range(1, len(loss) + 1)\n",
        "\n",
        "#accuracy plot\n",
        "plt.plot(epochs, acc, color='green', label='Training Accuracy')\n",
        "plt.plot(epochs, val_acc, color='blue', label='Validation Accuracy')\n",
        "plt.title('Training and Validation Accuracy')\n",
        "plt.ylabel('Accuracy')\n",
        "plt.xlabel('Epoch')\n",
        "plt.legend()\n",
        "\n",
        "plt.figure()\n",
        "#loss plot\n",
        "plt.plot(epochs, loss, color='pink', label='Training Loss')\n",
        "plt.plot(epochs, val_loss, color='red', label='Validation Loss')\n",
        "plt.title('Training and Validation Loss')\n",
        "plt.xlabel('Epoch')\n",
        "plt.ylabel('Loss')\n",
        "plt.legend()\n",
        "\n",
        "plt.show()"
      ],
      "metadata": {
        "colab": {
          "base_uri": "https://localhost:8080/",
          "height": 926
        },
        "id": "ynRajjxwnjfz",
        "outputId": "0f15cb90-284c-4383-eadd-bc0101e931f9"
      },
      "execution_count": null,
      "outputs": [
        {
          "output_type": "display_data",
          "data": {
            "text/plain": [
              "<Figure size 2000x1000 with 1 Axes>"
            ],
            "image/png": "[encoded data removed]"
          },
          "metadata": {}
        },
        {
          "output_type": "display_data",
          "data": {
            "text/plain": [
              "<Figure size 2000x1000 with 1 Axes>"
            ],
            "image/png": "[encoded data removed]"
          },
          "metadata": {}
        }
      ]
    },
    {
      "cell_type": "code",
      "source": [
        "# Evaluating the model\n",
        "score = model.evaluate(X_test, y_test, verbose=0)\n",
        "print('Test Loss:', score[0])\n",
        "print('Test accuracy:', score[1])"
      ],
      "metadata": {
        "colab": {
          "base_uri": "https://localhost:8080/"
        },
        "id": "LYpv24XynjiH",
        "outputId": "4c2b62ce-eec5-46be-ed84-832f34dcabdf"
      },
      "execution_count": null,
      "outputs": [
        {
          "output_type": "stream",
          "name": "stdout",
          "text": [
            "Test Loss: 1.415846347808838\n",
            "Test accuracy: 0.4365079402923584\n"
          ]
        }
      ]
    },
    {
      "cell_type": "code",
      "source": [
        "test_image = X_test[0:1]\n",
        "print (test_image.shape)"
      ],
      "metadata": {
        "colab": {
          "base_uri": "https://localhost:8080/"
        },
        "id": "qNBZlfJkodYu",
        "outputId": "277a3856-42d0-41a0-aece-06b88ff12704"
      },
      "execution_count": null,
      "outputs": [
        {
          "output_type": "stream",
          "name": "stdout",
          "text": [
            "(1, 224, 224, 3)\n"
          ]
        }
      ]
    },
    {
      "cell_type": "code",
      "source": [
        "print(model.predict(test_image))"
      ],
      "metadata": {
        "colab": {
          "base_uri": "https://localhost:8080/"
        },
        "id": "RxZ9d-o-oddl",
        "outputId": "dbdb7e0d-75e0-4c07-d536-1e66a46aaf4e"
      },
      "execution_count": null,
      "outputs": [
        {
          "output_type": "stream",
          "name": "stdout",
          "text": [
            "1/1 [==============================] - 1s 712ms/step\n",
            "[[0.1242206  0.09011298 0.18283051 0.14862908 0.14910427 0.09544805\n",
            "  0.2096544 ]]\n"
          ]
        }
      ]
    },
    {
      "cell_type": "code",
      "source": [
        "import matplotlib.pyplot as plt\n",
        "from sklearn.datasets import make_classification\n",
        "#from sklearn.metrics import plot_confusion_matrix\n",
        "from sklearn.model_selection import train_test_split\n",
        "from sklearn.metrics import classification_report, confusion_matrix, accuracy_score"
      ],
      "metadata": {
        "id": "5VVomQ9cojDe"
      },
      "execution_count": null,
      "outputs": []
    },
    {
      "cell_type": "code",
      "source": [
        "preds_probs = model.predict(X_test, verbose=1)"
      ],
      "metadata": {
        "colab": {
          "base_uri": "https://localhost:8080/"
        },
        "id": "bQAwWENgojYp",
        "outputId": "01dbf5d9-5664-416d-e817-f893db356991"
      },
      "execution_count": null,
      "outputs": [
        {
          "output_type": "stream",
          "name": "stdout",
          "text": [
            "8/8 [==============================] - 0s 17ms/step\n"
          ]
        }
      ]
    },
    {
      "cell_type": "code",
      "source": [
        "preds_probs[:10]"
      ],
      "metadata": {
        "colab": {
          "base_uri": "https://localhost:8080/"
        },
        "id": "ZmDqD9pkojbV",
        "outputId": "25725007-70bb-451e-f769-7798639c830a"
      },
      "execution_count": null,
      "outputs": [
        {
          "output_type": "execute_result",
          "data": {
            "text/plain": [
              "array([[1.2422060e-01, 9.0112984e-02, 1.8283051e-01, 1.4862908e-01,\n",
              "        1.4910427e-01, 9.5448054e-02, 2.0965441e-01],\n",
              "       [1.2422060e-01, 9.0112984e-02, 1.8283051e-01, 1.4862908e-01,\n",
              "        1.4910427e-01, 9.5448054e-02, 2.0965441e-01],\n",
              "       [1.2422060e-01, 9.0112984e-02, 1.8283051e-01, 1.4862908e-01,\n",
              "        1.4910427e-01, 9.5448054e-02, 2.0965441e-01],\n",
              "       [4.6767894e-20, 1.8197822e-04, 4.5162220e-03, 3.1704541e-13,\n",
              "        9.9524707e-01, 5.6471015e-11, 5.4744822e-05],\n",
              "       [1.2422060e-01, 9.0112984e-02, 1.8283051e-01, 1.4862908e-01,\n",
              "        1.4910427e-01, 9.5448054e-02, 2.0965441e-01],\n",
              "       [0.0000000e+00, 1.5331610e-09, 1.4095044e-06, 3.0088005e-31,\n",
              "        9.9999857e-01, 1.7914820e-25, 2.4120905e-11],\n",
              "       [0.0000000e+00, 7.7428210e-11, 1.7909129e-07, 7.4873767e-36,\n",
              "        9.9999976e-01, 3.5425104e-29, 5.7328057e-13],\n",
              "       [1.2422060e-01, 9.0112984e-02, 1.8283051e-01, 1.4862908e-01,\n",
              "        1.4910427e-01, 9.5448054e-02, 2.0965441e-01],\n",
              "       [1.2422060e-01, 9.0112984e-02, 1.8283051e-01, 1.4862908e-01,\n",
              "        1.4910427e-01, 9.5448054e-02, 2.0965441e-01],\n",
              "       [1.2422060e-01, 9.0112984e-02, 1.8283051e-01, 1.4862908e-01,\n",
              "        1.4910427e-01, 9.5448054e-02, 2.0965441e-01]], dtype=float32)"
            ]
          },
          "metadata": {},
          "execution_count": 28
        }
      ]
    },
    {
      "cell_type": "code",
      "source": [
        "# We get one prediction probability per class (in our case there's 101 prediction probabilities)\n",
        "print(f\"Number of prediction probabilities for sample 0: {len(preds_probs[0])}\")\n",
        "print(f\"What prediction probability sample 0 looks like:\\n {preds_probs[0]}\")\n",
        "print(f\"The class with the highest predicted probability by the model for sample 0: {preds_probs[0].argmax()}\")"
      ],
      "metadata": {
        "colab": {
          "base_uri": "https://localhost:8080/"
        },
        "id": "Njlo_cxjojdQ",
        "outputId": "221ec33b-fe0e-445c-85df-73db1ba9bd33"
      },
      "execution_count": null,
      "outputs": [
        {
          "output_type": "stream",
          "name": "stdout",
          "text": [
            "Number of prediction probabilities for sample 0: 7\n",
            "What prediction probability sample 0 looks like:\n",
            " [0.1242206  0.09011298 0.18283051 0.14862908 0.14910427 0.09544805\n",
            " 0.2096544 ]\n",
            "The class with the highest predicted probability by the model for sample 0: 6\n"
          ]
        }
      ]
    },
    {
      "cell_type": "code",
      "source": [
        "len(preds_probs)"
      ],
      "metadata": {
        "colab": {
          "base_uri": "https://localhost:8080/"
        },
        "id": "YjLUVAN_pB8o",
        "outputId": "9defa69e-37d3-4a6a-e3ba-f306e4d3d617"
      },
      "execution_count": null,
      "outputs": [
        {
          "output_type": "execute_result",
          "data": {
            "text/plain": [
              "252"
            ]
          },
          "metadata": {},
          "execution_count": 30
        }
      ]
    },
    {
      "cell_type": "code",
      "source": [
        "preds_probs.shape"
      ],
      "metadata": {
        "colab": {
          "base_uri": "https://localhost:8080/"
        },
        "id": "CDfOpbY0pB6O",
        "outputId": "bf702a9f-60b6-41e3-b295-ef43695a3900"
      },
      "execution_count": null,
      "outputs": [
        {
          "output_type": "execute_result",
          "data": {
            "text/plain": [
              "(252, 7)"
            ]
          },
          "metadata": {},
          "execution_count": 31
        }
      ]
    },
    {
      "cell_type": "code",
      "source": [
        "# What does the first prediction probability array look like?\n",
        "preds_probs[0], len(preds_probs[0]), sum(preds_probs[0])"
      ],
      "metadata": {
        "colab": {
          "base_uri": "https://localhost:8080/"
        },
        "id": "xVuyF7CLpI-q",
        "outputId": "d22d3550-c6ef-4eab-c53b-c7b7ba78caf1"
      },
      "execution_count": null,
      "outputs": [
        {
          "output_type": "execute_result",
          "data": {
            "text/plain": [
              "(array([0.1242206 , 0.09011298, 0.18283051, 0.14862908, 0.14910427,\n",
              "        0.09544805, 0.2096544 ], dtype=float32),\n",
              " 7,\n",
              " 0.9999999105930328)"
            ]
          },
          "metadata": {},
          "execution_count": 32
        }
      ]
    },
    {
      "cell_type": "code",
      "source": [
        "# Get the pred classes of each label\n",
        "pred_classes = preds_probs.argmax(axis=1)"
      ],
      "metadata": {
        "id": "kXoJadgFpJBN"
      },
      "execution_count": null,
      "outputs": []
    },
    {
      "cell_type": "code",
      "source": [
        "# How many pred classes do we have?\n",
        "len(pred_classes)"
      ],
      "metadata": {
        "colab": {
          "base_uri": "https://localhost:8080/"
        },
        "id": "bEeTBAMBpSe0",
        "outputId": "286bb018-e13f-47b0-a455-2e7dd24988d6"
      },
      "execution_count": null,
      "outputs": [
        {
          "output_type": "execute_result",
          "data": {
            "text/plain": [
              "252"
            ]
          },
          "metadata": {},
          "execution_count": 35
        }
      ]
    },
    {
      "cell_type": "code",
      "source": [
        "#import seaborn as sns\n",
        "import numpy as np\n",
        "from sklearn.metrics import classification_report\n",
        "from sklearn import metrics"
      ],
      "metadata": {
        "id": "3GVbF1yYpSg7"
      },
      "execution_count": null,
      "outputs": []
    },
    {
      "cell_type": "code",
      "source": [
        "y_test.shape, preds_probs.shape"
      ],
      "metadata": {
        "colab": {
          "base_uri": "https://localhost:8080/"
        },
        "id": "mpDyD8h7pSjA",
        "outputId": "aaceb137-ec37-415e-fa06-350cc7ce5a05"
      },
      "execution_count": null,
      "outputs": [
        {
          "output_type": "execute_result",
          "data": {
            "text/plain": [
              "((252, 7), (252, 7))"
            ]
          },
          "metadata": {},
          "execution_count": 37
        }
      ]
    },
    {
      "cell_type": "code",
      "source": [
        "y_test = np.argmax(y_test, axis=1)"
      ],
      "metadata": {
        "id": "UyetUx4fpSk0"
      },
      "execution_count": null,
      "outputs": []
    },
    {
      "cell_type": "code",
      "source": [
        "preds_probs.shape , y_test.shape"
      ],
      "metadata": {
        "colab": {
          "base_uri": "https://localhost:8080/"
        },
        "id": "YpQsNtr1pbpg",
        "outputId": "9153c19a-55e7-4e41-c276-93c475a8e560"
      },
      "execution_count": null,
      "outputs": [
        {
          "output_type": "execute_result",
          "data": {
            "text/plain": [
              "((252, 7), (252,))"
            ]
          },
          "metadata": {},
          "execution_count": 39
        }
      ]
    },
    {
      "cell_type": "code",
      "source": [
        "y_test.shape"
      ],
      "metadata": {
        "colab": {
          "base_uri": "https://localhost:8080/"
        },
        "id": "2r6LTYrvpbr5",
        "outputId": "c8e261cb-cc8c-424f-f509-81983de263e0"
      },
      "execution_count": null,
      "outputs": [
        {
          "output_type": "execute_result",
          "data": {
            "text/plain": [
              "(252,)"
            ]
          },
          "metadata": {},
          "execution_count": 40
        }
      ]
    },
    {
      "cell_type": "code",
      "source": [
        "preds_probs.shape"
      ],
      "metadata": {
        "colab": {
          "base_uri": "https://localhost:8080/"
        },
        "id": "wMJhTgv0pbuG",
        "outputId": "380e27f9-fc2a-472c-e08f-24ed2a3e77a4"
      },
      "execution_count": null,
      "outputs": [
        {
          "output_type": "execute_result",
          "data": {
            "text/plain": [
              "(252, 7)"
            ]
          },
          "metadata": {},
          "execution_count": 41
        }
      ]
    },
    {
      "cell_type": "code",
      "source": [
        "preds_probs = np.argmax(preds_probs, axis=1)\n",
        "preds_probs.shape"
      ],
      "metadata": {
        "colab": {
          "base_uri": "https://localhost:8080/"
        },
        "id": "au-CzU-opbwH",
        "outputId": "b8dcfaec-41fc-4f51-be28-f4006ed0f4bd"
      },
      "execution_count": null,
      "outputs": [
        {
          "output_type": "execute_result",
          "data": {
            "text/plain": [
              "(252,)"
            ]
          },
          "metadata": {},
          "execution_count": 42
        }
      ]
    },
    {
      "cell_type": "code",
      "source": [
        "print(metrics.accuracy_score(y_test, preds_probs))"
      ],
      "metadata": {
        "colab": {
          "base_uri": "https://localhost:8080/"
        },
        "id": "nI3NFuilpbyh",
        "outputId": "571a95d9-bb5b-4448-9e2d-eaaa33164ce3"
      },
      "execution_count": null,
      "outputs": [
        {
          "output_type": "stream",
          "name": "stdout",
          "text": [
            "0.4365079365079365\n"
          ]
        }
      ]
    },
    {
      "cell_type": "code",
      "source": [
        "print(classification_report(y_test, preds_probs))"
      ],
      "metadata": {
        "colab": {
          "base_uri": "https://localhost:8080/"
        },
        "id": "c0uo79dgpb0o",
        "outputId": "49bf19af-3879-48f4-c20f-896f602a1170"
      },
      "execution_count": null,
      "outputs": [
        {
          "output_type": "stream",
          "name": "stdout",
          "text": [
            "              precision    recall  f1-score   support\n",
            "\n",
            "           0       0.00      0.00      0.00        31\n",
            "           1       0.00      0.00      0.00        18\n",
            "           2       0.00      0.00      0.00        34\n",
            "           3       0.00      0.00      0.00        44\n",
            "           4       1.00      1.00      1.00        64\n",
            "           5       0.00      0.00      0.00        15\n",
            "           6       0.24      1.00      0.39        46\n",
            "\n",
            "    accuracy                           0.44       252\n",
            "   macro avg       0.18      0.29      0.20       252\n",
            "weighted avg       0.30      0.44      0.33       252\n",
            "\n"
          ]
        },
        {
          "output_type": "stream",
          "name": "stderr",
          "text": [
            "/usr/local/lib/python3.10/dist-packages/sklearn/metrics/_classification.py:1344: UndefinedMetricWarning: Precision and F-score are ill-defined and being set to 0.0 in labels with no predicted samples. Use `zero_division` parameter to control this behavior.\n",
            "  _warn_prf(average, modifier, msg_start, len(result))\n",
            "/usr/local/lib/python3.10/dist-packages/sklearn/metrics/_classification.py:1344: UndefinedMetricWarning: Precision and F-score are ill-defined and being set to 0.0 in labels with no predicted samples. Use `zero_division` parameter to control this behavior.\n",
            "  _warn_prf(average, modifier, msg_start, len(result))\n",
            "/usr/local/lib/python3.10/dist-packages/sklearn/metrics/_classification.py:1344: UndefinedMetricWarning: Precision and F-score are ill-defined and being set to 0.0 in labels with no predicted samples. Use `zero_division` parameter to control this behavior.\n",
            "  _warn_prf(average, modifier, msg_start, len(result))\n"
          ]
        }
      ]
    },
    {
      "cell_type": "code",
      "source": [
        "from sklearn.metrics import confusion_matrix\n",
        "import matplotlib.pyplot as plt\n",
        "#Defining function for confusion matrix plot\n",
        "def plot_confusion_matrix(y_true, y_pred, classes,\n",
        "                          normalize=False,\n",
        "                          title=None,\n",
        "                          cmap=plt.cm.Blues):\n",
        "\n",
        "    if not title:\n",
        "        if normalize:\n",
        "            title = 'Normalized confusion matrix'\n",
        "        else:\n",
        "            title = 'Confusion matrix, without normalization'\n",
        "\n",
        "    #Compute confusion matrix\n",
        "    cm = confusion_matrix(y_true, y_pred)\n",
        "    if normalize:\n",
        "        cm = cm.astype('int') / cm.sum(axis=1)[:, np.newaxis]\n",
        "        print(\"Normalized confusion matrix\")\n",
        "    else:\n",
        "        print('Confusion matrix, without normalization')\n",
        "\n",
        "#print(cm)\n",
        "\n",
        "    fig, ax = plt.subplots(figsize=(7,7))\n",
        "    im = ax.imshow(cm, interpolation='nearest', cmap=cmap)\n",
        "    ax.figure.colorbar(im, ax=ax)\n",
        "    # We want to show all ticks...\n",
        "    ax.set(xticks=np.arange(cm.shape[1]),\n",
        "           yticks=np.arange(cm.shape[0]),\n",
        "           # ... and label them with the respective list entries\n",
        "           xticklabels=classes, yticklabels=classes,\n",
        "           title=title,\n",
        "           ylabel='True label',\n",
        "           xlabel='Predicted label')\n",
        "\n",
        "\n",
        "    #Rotate the tick labels and set their alignment.\n",
        "    plt.setp(ax.get_xticklabels(), rotation=45, ha=\"right\",\n",
        "             rotation_mode=\"anchor\")\n",
        "    # Loop over data dimensions and create text annotations.\n",
        "    fmt = '.2f' if normalize else 'd'\n",
        "    thresh = cm.max() / 2.\n",
        "    for i in range(cm.shape[0]):\n",
        "        for j in range(cm.shape[1]):\n",
        "            ax.text(j, i, format(cm[i, j], fmt),\n",
        "                    ha=\"center\", va=\"center\",\n",
        "                    color=\"white\" if cm[i, j] > thresh else \"black\")\n",
        "    fig.tight_layout()\n",
        "    return ax\n",
        "\n",
        "np.set_printoptions(precision=2)"
      ],
      "metadata": {
        "id": "hpQS9dKjpouB"
      },
      "execution_count": null,
      "outputs": []
    },
    {
      "cell_type": "code",
      "source": [
        "#Plotting the confusion matrix\n",
        "confusion_mtx = confusion_matrix(y_test, preds_probs)\n",
        "class_names=['surprise', 'disgust', 'fear', 'happy', 'sad', 'neutral', 'angry']\n",
        "# Plotting non-normalized confusion matrix\n",
        "plot_confusion_matrix(y_test, preds_probs, classes = class_names, title='Confusion matrix, without normalization')"
      ],
      "metadata": {
        "colab": {
          "base_uri": "https://localhost:8080/",
          "height": 723
        },
        "id": "dEGWmj1Bpowc",
        "outputId": "2e03f9c2-dfd6-45d9-b196-01fabae520ed"
      },
      "execution_count": null,
      "outputs": [
        {
          "output_type": "stream",
          "name": "stdout",
          "text": [
            "Confusion matrix, without normalization\n"
          ]
        },
        {
          "output_type": "execute_result",
          "data": {
            "text/plain": [
              "<Axes: title={'center': 'Confusion matrix, without normalization'}, xlabel='Predicted label', ylabel='True label'>"
            ]
          },
          "metadata": {},
          "execution_count": 46
        },
        {
          "output_type": "display_data",
          "data": {
            "text/plain": [
              "<Figure size 700x700 with 2 Axes>"
            ],
            "image/png": "[encoded data removed]"
          },
          "metadata": {}
        }
      ]
    },
    {
      "cell_type": "code",
      "source": [],
      "metadata": {
        "id": "0GWO1hPepozr"
      },
      "execution_count": null,
      "outputs": []
    }
  ]
}